{
 "cells": [
  {
   "cell_type": "code",
   "execution_count": 1,
   "metadata": {},
   "outputs": [],
   "source": [
    "%load_ext autoreload\n",
    "%autoreload 2"
   ]
  },
  {
   "cell_type": "code",
   "execution_count": 2,
   "metadata": {},
   "outputs": [],
   "source": [
    "import os\n",
    "import torch\n",
    "import numpy as np\n",
    "import torch.nn as nn\n",
    "import torch.optim as optim\n",
    "import matplotlib.pyplot as plt\n",
    "\n",
    "from pathlib import Path\n",
    "from torch.utils.data import DataLoader\n",
    "\n",
    "from torchfitter.trainer import Trainer\n",
    "from torchfitter.utils import DataWrapper\n",
    "from torchfitter.regularization import L1Regularization\n",
    "\n",
    "from sklearn.model_selection import train_test_split\n",
    "\n",
    "torch.manual_seed(0)\n",
    "np.random.seed(0)"
   ]
  },
  {
   "cell_type": "code",
   "execution_count": 3,
   "metadata": {},
   "outputs": [],
   "source": [
    "DATA_PATH = Path(os.path.abspath('')).parent / \"tests/data\""
   ]
  },
  {
   "cell_type": "code",
   "execution_count": 4,
   "metadata": {},
   "outputs": [],
   "source": [
    "X = np.load(DATA_PATH / \"features.npy\")\n",
    "y = np.load(DATA_PATH / \"labels.npy\")\n",
    "\n",
    "y = y.reshape(-1,1)"
   ]
  },
  {
   "cell_type": "code",
   "execution_count": 5,
   "metadata": {},
   "outputs": [],
   "source": [
    "# simplest case of cross-validation\n",
    "X_train, X_val, y_train, y_val = train_test_split(\n",
    "    X, \n",
    "    y, \n",
    "    test_size=0.33, \n",
    "    random_state=42\n",
    ")"
   ]
  },
  {
   "cell_type": "code",
   "execution_count": 6,
   "metadata": {},
   "outputs": [],
   "source": [
    "device = \"cuda\" if torch.cuda.is_available() else \"cpu\""
   ]
  },
  {
   "cell_type": "code",
   "execution_count": 7,
   "metadata": {},
   "outputs": [],
   "source": [
    "model = nn.Linear(in_features=1, out_features=1)\n",
    "model.to(device)\n",
    "\n",
    "regularizer = L1Regularization(regularization_rate=0.01, biases=False)\n",
    "criterion = nn.MSELoss()\n",
    "optimizer = optim.Adam(model.parameters(), lr=0.005)"
   ]
  },
  {
   "cell_type": "code",
   "execution_count": 8,
   "metadata": {},
   "outputs": [],
   "source": [
    "from torchfitter.callbacks import LoggerCallback, EarlyStopping, LearningRateScheduler"
   ]
  },
  {
   "cell_type": "code",
   "execution_count": 9,
   "metadata": {},
   "outputs": [],
   "source": [
    "callbacks = [\n",
    "    LoggerCallback(update_step=100),\n",
    "    EarlyStopping(patience=100, load_best=True),\n",
    "    LearningRateScheduler(\n",
    "        scheduler=optim.lr_scheduler.StepLR(optimizer, step_size=500, gamma=0.9)\n",
    "    )\n",
    "]"
   ]
  },
  {
   "cell_type": "code",
   "execution_count": 10,
   "metadata": {},
   "outputs": [],
   "source": [
    "trainer = Trainer(\n",
    "    model=model, \n",
    "    criterion=criterion,\n",
    "    optimizer=optimizer, \n",
    "    regularizer=regularizer,\n",
    "    device=device,\n",
    "    callbacks=callbacks\n",
    ")"
   ]
  },
  {
   "cell_type": "code",
   "execution_count": 11,
   "metadata": {},
   "outputs": [],
   "source": [
    "# wrap data in Dataset\n",
    "train_wrapper = DataWrapper(\n",
    "    X_train, \n",
    "    y_train, \n",
    "    dtype_X='float', \n",
    "    dtype_y='float'\n",
    ")\n",
    "\n",
    "val_wrapper = DataWrapper(\n",
    "    X_val,\n",
    "    y_val,\n",
    "    dtype_X='float',\n",
    "    dtype_y='float'\n",
    ")\n",
    "\n",
    "# torch Loaders\n",
    "train_loader = DataLoader(train_wrapper, batch_size=64, pin_memory=True)\n",
    "val_loader = DataLoader(val_wrapper, batch_size=64, pin_memory=True)"
   ]
  },
  {
   "cell_type": "code",
   "execution_count": 12,
   "metadata": {
    "scrolled": false
   },
   "outputs": [
    {
     "name": "stderr",
     "output_type": "stream",
     "text": [
      "INFO:root:Starting training process on cuda\n"
     ]
    },
    {
     "data": {
      "application/vnd.jupyter.widget-view+json": {
       "model_id": "afe46a375b0447fbb309fa55a9307d4d",
       "version_major": 2,
       "version_minor": 0
      },
      "text/plain": [
       "  0%|          | 0/5000 [00:00<?, ?it/s]"
      ]
     },
     "metadata": {},
     "output_type": "display_data"
    },
    {
     "name": "stderr",
     "output_type": "stream",
     "text": [
      "INFO:root:Epoch: 1/5000     | Train loss: 8375.298162   | Validation loss: 8659.476969   | Time/epoch: 0.335850     \n",
      "INFO:root:Epoch: 100/5000     | Train loss: 7415.332164   | Validation loss: 7685.061605   | Time/epoch: 0.047000     \n",
      "INFO:root:Epoch: 200/5000     | Train loss: 6538.122070   | Validation loss: 6790.419108   | Time/epoch: 0.043160     \n",
      "INFO:root:Epoch: 300/5000     | Train loss: 5770.328525   | Validation loss: 6004.923340   | Time/epoch: 0.055000     \n",
      "INFO:root:Epoch: 400/5000     | Train loss: 5095.624134   | Validation loss: 5312.374919   | Time/epoch: 0.050000     \n",
      "INFO:root:Epoch: 500/5000     | Train loss: 4467.257102   | Validation loss: 4666.037842   | Time/epoch: 0.046870     \n",
      "INFO:root:Epoch: 600/5000     | Train loss: 3937.659446   | Validation loss: 4120.683838   | Time/epoch: 0.041050     \n",
      "INFO:root:Epoch: 700/5000     | Train loss: 3444.400923   | Validation loss: 3611.705648   | Time/epoch: 0.057510     \n",
      "INFO:root:Epoch: 800/5000     | Train loss: 3007.229448   | Validation loss: 3160.228190   | Time/epoch: 0.050050     \n",
      "INFO:root:Epoch: 900/5000     | Train loss: 2622.473300   | Validation loss: 2762.104614   | Time/epoch: 0.065070     \n",
      "INFO:root:Epoch: 1000/5000     | Train loss: 2265.963767   | Validation loss: 2392.685262   | Time/epoch: 0.056610     \n",
      "INFO:root:Epoch: 1100/5000     | Train loss: 1967.982733   | Validation loss: 2083.617249   | Time/epoch: 0.047460     \n",
      "INFO:root:Epoch: 1200/5000     | Train loss: 1693.251254   | Validation loss: 1798.021790   | Time/epoch: 0.046880     \n",
      "INFO:root:Epoch: 1300/5000     | Train loss: 1452.678844   | Validation loss: 1547.609009   | Time/epoch: 0.046870     \n",
      "INFO:root:Epoch: 1400/5000     | Train loss: 1243.713396   | Validation loss: 1329.520630   | Time/epoch: 0.046880     \n",
      "INFO:root:Epoch: 1500/5000     | Train loss: 1053.011896   | Validation loss: 1130.030741   | Time/epoch: 0.040080     \n",
      "INFO:root:Epoch: 1600/5000     | Train loss: 896.246876    | Validation loss: 965.699677    | Time/epoch: 0.046870     \n",
      "INFO:root:Epoch: 1700/5000     | Train loss: 754.364680    | Validation loss: 816.435038    | Time/epoch: 0.045660     \n",
      "INFO:root:Epoch: 1800/5000     | Train loss: 632.782548    | Validation loss: 688.148214    | Time/epoch: 0.046870     \n",
      "INFO:root:Epoch: 1900/5000     | Train loss: 529.642756    | Validation loss: 578.816106    | Time/epoch: 0.034740     \n",
      "INFO:root:Epoch: 2000/5000     | Train loss: 438.153437    | Validation loss: 481.368851    | Time/epoch: 0.046740     \n",
      "INFO:root:Epoch: 2100/5000     | Train loss: 365.312883    | Validation loss: 403.384867    | Time/epoch: 0.045000     \n",
      "INFO:root:Epoch: 2200/5000     | Train loss: 301.808175    | Validation loss: 334.893778    | Time/epoch: 0.047440     \n",
      "INFO:root:Epoch: 2300/5000     | Train loss: 249.814138    | Validation loss: 278.371699    | Time/epoch: 0.046870     \n",
      "INFO:root:Epoch: 2400/5000     | Train loss: 207.977171    | Validation loss: 232.387423    | Time/epoch: 0.046870     \n",
      "INFO:root:Epoch: 2500/5000     | Train loss: 173.265453    | Validation loss: 193.717430    | Time/epoch: 0.046870     \n",
      "INFO:root:Epoch: 2600/5000     | Train loss: 147.805943    | Validation loss: 164.865606    | Time/epoch: 0.044890     \n",
      "INFO:root:Epoch: 2700/5000     | Train loss: 127.776552    | Validation loss: 141.612314    | Time/epoch: 0.046000     \n",
      "INFO:root:Epoch: 2800/5000     | Train loss: 113.497457    | Validation loss: 124.474377    | Time/epoch: 0.031250     \n",
      "INFO:root:Epoch: 2900/5000     | Train loss: 103.926017    | Validation loss: 112.394819    | Time/epoch: 0.044000     \n",
      "INFO:root:Epoch: 3000/5000     | Train loss: 97.832917     | Validation loss: 104.072245    | Time/epoch: 0.044000     \n",
      "INFO:root:Epoch: 3100/5000     | Train loss: 94.796210     | Validation loss: 99.335519     | Time/epoch: 0.045140     \n",
      "INFO:root:Epoch: 3200/5000     | Train loss: 93.463722     | Validation loss: 96.706223     | Time/epoch: 0.046870     \n",
      "INFO:root:Epoch: 3300/5000     | Train loss: 93.088261     | Validation loss: 95.562344     | Time/epoch: 0.042310     \n",
      "INFO:root:Epoch: 3400/5000     | Train loss: 93.023351     | Validation loss: 95.152084     | Time/epoch: 0.046870     \n",
      "INFO:root:Epoch: 3500/5000     | Train loss: 93.016426     | Validation loss: 95.026156     | Time/epoch: 0.046870     \n",
      "INFO:root:Epoch: 3600/5000     | Train loss: 93.015932     | Validation loss: 94.995424     | Time/epoch: 0.046870     \n",
      "INFO:root:Epoch: 3700/5000     | Train loss: 93.015930     | Validation loss: 94.987666     | Time/epoch: 0.046880     \n",
      "INFO:root:Epoch: 3800/5000     | Train loss: 93.015859     | Validation loss: 94.985897     | Time/epoch: 0.037310     \n",
      "INFO:root:Epoch: 3900/5000     | Train loss: 93.015864     | Validation loss: 94.985597     | Time/epoch: 0.031250     \n",
      "INFO:root:Best observed parameters loaded.\n",
      "INFO:root:End of training. Total time: 180.90660 seconds\n",
      "INFO:root:Early stopping applied at epoch: 3947\n"
     ]
    }
   ],
   "source": [
    "# fitting process\n",
    "trainer.fit(train_loader, val_loader, epochs=5000)"
   ]
  },
  {
   "cell_type": "code",
   "execution_count": 13,
   "metadata": {},
   "outputs": [],
   "source": [
    "# predictions\n",
    "with torch.no_grad():\n",
    "    y_pred = model(torch.from_numpy(X_val).float().to(device)).cpu().numpy()"
   ]
  },
  {
   "cell_type": "code",
   "execution_count": 14,
   "metadata": {},
   "outputs": [
    {
     "data": {
      "image/png": "[encoded data removed]",
      "text/plain": [
       "<Figure size 1368x288 with 3 Axes>"
      ]
     },
     "metadata": {
      "needs_background": "light"
     },
     "output_type": "display_data"
    }
   ],
   "source": [
    "fig, ax = plt.subplots(nrows=1, ncols=3, figsize=(19,4))\n",
    "\n",
    "ax[0].plot(trainer.params_dict['history']['train_loss'], label='Train loss')\n",
    "ax[0].plot(trainer.params_dict['history']['validation_loss'], label='Validation loss')\n",
    "ax[0].set_title('Train and validation losses')\n",
    "ax[0].legend();\n",
    "\n",
    "ax[1].plot(X_val, y_val, '.', label=\"Real\")\n",
    "ax[1].plot(X_val, y_pred, '.', label=\"Prediction\")\n",
    "ax[1].set_title('Predictions')\n",
    "ax[1].legend();\n",
    "\n",
    "\n",
    "ax[2].plot(trainer.params_dict['history']['learning_rate'], label=\"Learning rate\")\n",
    "ax[2].set_title('Learning Rate')\n",
    "ax[2].legend();"
   ]
  }
 ],
 "metadata": {
  "kernelspec": {
   "display_name": "Python 3",
   "language": "python",
   "name": "python3"
  },
  "language_info": {
   "codemirror_mode": {
    "name": "ipython",
    "version": 3
   },
   "file_extension": ".py",
   "mimetype": "text/x-python",
   "name": "python",
   "nbconvert_exporter": "python",
   "pygments_lexer": "ipython3",
   "version": "3.7.10"
  }
 },
 "nbformat": 4,
 "nbformat_minor": 4
}
