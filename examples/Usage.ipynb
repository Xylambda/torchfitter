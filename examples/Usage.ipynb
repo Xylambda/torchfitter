{
 "cells": [
  {
   "cell_type": "code",
   "execution_count": 1,
   "metadata": {},
   "outputs": [],
   "source": [
    "%load_ext autoreload\n",
    "%autoreload 2"
   ]
  },
  {
   "cell_type": "code",
   "execution_count": 2,
   "metadata": {},
   "outputs": [],
   "source": [
    "import os\n",
    "import torch\n",
    "import numpy as np\n",
    "import torch.nn as nn\n",
    "import torch.optim as optim\n",
    "import matplotlib.pyplot as plt\n",
    "\n",
    "from pathlib import Path\n",
    "from torch.utils.data import DataLoader\n",
    "\n",
    "from torchfitter.trainer import Trainer\n",
    "from torchfitter.utils import DataWrapper\n",
    "from torchfitter.regularization import L1Regularization\n",
    "\n",
    "from sklearn.model_selection import train_test_split\n",
    "\n",
    "torch.manual_seed(0)\n",
    "np.random.seed(0)"
   ]
  },
  {
   "cell_type": "code",
   "execution_count": 3,
   "metadata": {},
   "outputs": [],
   "source": [
    "DATA_PATH = Path(os.path.abspath('')).parent / \"tests/data\""
   ]
  },
  {
   "cell_type": "code",
   "execution_count": 4,
   "metadata": {},
   "outputs": [],
   "source": [
    "X = np.load(DATA_PATH / \"features.npy\")\n",
    "y = np.load(DATA_PATH / \"labels.npy\")\n",
    "\n",
    "y = y.reshape(-1,1)"
   ]
  },
  {
   "cell_type": "code",
   "execution_count": 5,
   "metadata": {},
   "outputs": [],
   "source": [
    "from sklearn.datasets import make_regression"
   ]
  },
  {
   "cell_type": "code",
   "execution_count": 6,
   "metadata": {},
   "outputs": [],
   "source": [
    "# simplest case of cross-validation\n",
    "X_train, X_val, y_train, y_val = train_test_split(\n",
    "    X, \n",
    "    y, \n",
    "    test_size=0.33, \n",
    "    random_state=42\n",
    ")"
   ]
  },
  {
   "cell_type": "code",
   "execution_count": 7,
   "metadata": {},
   "outputs": [],
   "source": [
    "device = \"cuda\" if torch.cuda.is_available() else \"cpu\""
   ]
  },
  {
   "cell_type": "code",
   "execution_count": 8,
   "metadata": {},
   "outputs": [],
   "source": [
    "model = nn.Linear(in_features=1, out_features=1)\n",
    "model.to(device)\n",
    "\n",
    "regularizer = L1Regularization(regularization_rate=0.01, biases=False)\n",
    "criterion = nn.MSELoss()\n",
    "optimizer = optim.Adam(model.parameters(), lr=0.005)"
   ]
  },
  {
   "cell_type": "code",
   "execution_count": 9,
   "metadata": {},
   "outputs": [],
   "source": [
    "from torchfitter.callbacks import LoggerCallback, EarlyStopping, LearningRateScheduler"
   ]
  },
  {
   "cell_type": "code",
   "execution_count": 10,
   "metadata": {},
   "outputs": [],
   "source": [
    "logger = LoggerCallback(update_step=50)\n",
    "early_stopping = EarlyStopping(patience=100, load_best=True)\n",
    "\n",
    "_scheduler = torch.optim.lr_scheduler.StepLR(optimizer, step_size=500, gamma=0.9)\n",
    "scheduler = LearningRateScheduler(scheduler=_scheduler)"
   ]
  },
  {
   "cell_type": "code",
   "execution_count": 11,
   "metadata": {},
   "outputs": [],
   "source": [
    "trainer = Trainer(\n",
    "    model=model, \n",
    "    criterion=criterion,\n",
    "    optimizer=optimizer, \n",
    "    regularizer=regularizer,\n",
    "    device=device,\n",
    "    callbacks=[logger, early_stopping, scheduler]\n",
    ")"
   ]
  },
  {
   "cell_type": "code",
   "execution_count": 12,
   "metadata": {},
   "outputs": [],
   "source": [
    "# wrap data in Dataset\n",
    "train_wrapper = DataWrapper(\n",
    "    X_train, \n",
    "    y_train, \n",
    "    dtype_X='float', \n",
    "    dtype_y='float'\n",
    ")\n",
    "val_wrapper = DataWrapper(X_val, y_val, dtype_X='float', dtype_y='float')\n",
    "\n",
    "# torch Loaders\n",
    "train_loader = DataLoader(train_wrapper, batch_size=32)\n",
    "val_loader = DataLoader(val_wrapper, batch_size=32)"
   ]
  },
  {
   "cell_type": "code",
   "execution_count": 13,
   "metadata": {
    "scrolled": true
   },
   "outputs": [
    {
     "name": "stderr",
     "output_type": "stream",
     "text": [
      "INFO:root:Starting training process on cpu\n"
     ]
    },
    {
     "data": {
      "application/vnd.jupyter.widget-view+json": {
       "model_id": "8c3259d298694904a79543af31ce7090",
       "version_major": 2,
       "version_minor": 0
      },
      "text/plain": [
       "HBox(children=(FloatProgress(value=0.0, max=5000.0), HTML(value='')))"
      ]
     },
     "metadata": {},
     "output_type": "display_data"
    },
    {
     "name": "stderr",
     "output_type": "stream",
     "text": [
      "/Library/Frameworks/Python.framework/Versions/3.7/lib/python3.7/site-packages/torch/optim/lr_scheduler.py:136: UserWarning: Detected call of `lr_scheduler.step()` before `optimizer.step()`. In PyTorch 1.1.0 and later, you should call them in the opposite order: `optimizer.step()` before `lr_scheduler.step()`.  Failure to do this will result in PyTorch skipping the first value of the learning rate schedule. See more details at https://pytorch.org/docs/stable/optim.html#how-to-adjust-learning-rate\n",
      "  \"https://pytorch.org/docs/stable/optim.html#how-to-adjust-learning-rate\", UserWarning)\n",
      "INFO:root:Epoch: 0/5000     | Train loss: 8425.840053   | Validation loss: 8425.840053   | Time/epoch: 0.028900     \n",
      "INFO:root:Epoch: 1/5000     | Train loss: 8406.319545   | Validation loss: 8406.319545   | Time/epoch: 0.025400     \n",
      "INFO:root:Epoch: 50/5000     | Train loss: 7505.546875   | Validation loss: 7505.546875   | Time/epoch: 0.016500     \n",
      "INFO:root:Epoch: 100/5000     | Train loss: 6665.429199   | Validation loss: 6665.429199   | Time/epoch: 0.018080     \n",
      "INFO:root:Epoch: 150/5000     | Train loss: 5890.707659   | Validation loss: 5890.707659   | Time/epoch: 0.017680     \n",
      "INFO:root:Epoch: 200/5000     | Train loss: 5173.172875   | Validation loss: 5173.172875   | Time/epoch: 0.016500     \n",
      "INFO:root:Epoch: 250/5000     | Train loss: 4509.010719   | Validation loss: 4509.010719   | Time/epoch: 0.017680     \n",
      "INFO:root:Epoch: 300/5000     | Train loss: 3952.555327   | Validation loss: 3952.555327   | Time/epoch: 0.019740     \n",
      "INFO:root:Epoch: 350/5000     | Train loss: 3434.851039   | Validation loss: 3434.851039   | Time/epoch: 0.016930     \n",
      "INFO:root:Epoch: 400/5000     | Train loss: 2956.417376   | Validation loss: 2956.417376   | Time/epoch: 0.019260     \n",
      "INFO:root:Epoch: 450/5000     | Train loss: 2517.247936   | Validation loss: 2517.247936   | Time/epoch: 0.018150     \n",
      "INFO:root:Epoch: 500/5000     | Train loss: 2117.515892   | Validation loss: 2117.515892   | Time/epoch: 0.016810     \n",
      "INFO:root:Epoch: 550/5000     | Train loss: 1789.537074   | Validation loss: 1789.537074   | Time/epoch: 0.018180     \n",
      "INFO:root:Epoch: 600/5000     | Train loss: 1491.766631   | Validation loss: 1491.766631   | Time/epoch: 0.016390     \n",
      "INFO:root:Epoch: 650/5000     | Train loss: 1224.707842   | Validation loss: 1224.707842   | Time/epoch: 0.017260     \n",
      "INFO:root:Epoch: 700/5000     | Train loss: 988.270764    | Validation loss: 988.270764    | Time/epoch: 0.017530     \n",
      "INFO:root:Epoch: 750/5000     | Train loss: 782.273658    | Validation loss: 782.273658    | Time/epoch: 0.016500     \n",
      "INFO:root:Epoch: 800/5000     | Train loss: 621.412029    | Validation loss: 621.412029    | Time/epoch: 0.017150     \n",
      "INFO:root:Epoch: 850/5000     | Train loss: 483.564671    | Validation loss: 483.564671    | Time/epoch: 0.017750     \n",
      "INFO:root:Epoch: 900/5000     | Train loss: 368.735469    | Validation loss: 368.735469    | Time/epoch: 0.017870     \n",
      "INFO:root:Epoch: 950/5000     | Train loss: 276.333359    | Validation loss: 276.333359    | Time/epoch: 0.016930     \n",
      "INFO:root:Epoch: 1000/5000     | Train loss: 205.414944    | Validation loss: 205.414944    | Time/epoch: 0.017870     \n",
      "INFO:root:Epoch: 1050/5000     | Train loss: 158.308669    | Validation loss: 158.308669    | Time/epoch: 0.017880     \n",
      "INFO:root:Epoch: 1100/5000     | Train loss: 125.810203    | Validation loss: 125.810203    | Time/epoch: 0.016680     \n",
      "INFO:root:Epoch: 1150/5000     | Train loss: 106.249282    | Validation loss: 106.249282    | Time/epoch: 0.018650     \n",
      "INFO:root:Epoch: 1200/5000     | Train loss: 96.794255     | Validation loss: 96.794255     | Time/epoch: 0.018550     \n",
      "INFO:root:Epoch: 1250/5000     | Train loss: 93.646298     | Validation loss: 93.646298     | Time/epoch: 0.018980     \n",
      "INFO:root:Epoch: 1300/5000     | Train loss: 93.088853     | Validation loss: 93.088853     | Time/epoch: 0.017420     \n",
      "INFO:root:Epoch: 1350/5000     | Train loss: 93.032739     | Validation loss: 93.032739     | Time/epoch: 0.017160     \n",
      "INFO:root:Epoch: 1400/5000     | Train loss: 93.030681     | Validation loss: 93.030681     | Time/epoch: 0.018360     \n",
      "INFO:root:Epoch: 1450/5000     | Train loss: 93.030780     | Validation loss: 93.030780     | Time/epoch: 0.017360     \n",
      "INFO:root:Epoch: 1500/5000     | Train loss: 93.030426     | Validation loss: 93.030426     | Time/epoch: 0.017430     \n",
      "INFO:root:Epoch: 1550/5000     | Train loss: 93.030444     | Validation loss: 93.030444     | Time/epoch: 0.020100     \n",
      "INFO:root:Epoch: 1600/5000     | Train loss: 93.030438     | Validation loss: 93.030438     | Time/epoch: 0.017990     \n",
      "INFO:root:Best observed parameters loaded.\n",
      "INFO:root:End of training. Total time: 29.3934 seconds\n",
      "INFO:root:Early stopping applied at epoch: 1601\n"
     ]
    }
   ],
   "source": [
    "# fitting process\n",
    "trainer.fit(train_loader, val_loader, epochs=5000)"
   ]
  },
  {
   "cell_type": "code",
   "execution_count": 14,
   "metadata": {},
   "outputs": [],
   "source": [
    "from torchfitter.conventions import ParamsDict"
   ]
  },
  {
   "cell_type": "code",
   "execution_count": 15,
   "metadata": {},
   "outputs": [],
   "source": [
    "# predictions\n",
    "with torch.no_grad():\n",
    "    y_pred = model(torch.from_numpy(X_val).float().to(device)).cpu().numpy()"
   ]
  },
  {
   "cell_type": "code",
   "execution_count": 16,
   "metadata": {},
   "outputs": [
    {
     "data": {
      "image/png": "[encoded data removed]",
      "text/plain": [
       "<Figure size 1368x288 with 3 Axes>"
      ]
     },
     "metadata": {
      "needs_background": "light"
     },
     "output_type": "display_data"
    }
   ],
   "source": [
    "fig, ax = plt.subplots(nrows=1, ncols=3, figsize=(19,4))\n",
    "\n",
    "ax[0].plot(trainer.params_dict['history']['train_loss'], label='Train loss')\n",
    "ax[0].plot(trainer.params_dict['history']['validation_loss'], label='Validation loss')\n",
    "ax[0].set_title('Train and validation losses')\n",
    "ax[0].legend();\n",
    "\n",
    "ax[1].plot(X_val, y_val, '.', label=\"Real\")\n",
    "ax[1].plot(X_val, y_pred, '.', label=\"Prediction\")\n",
    "ax[1].set_title('Predictions')\n",
    "ax[1].legend();\n",
    "\n",
    "\n",
    "ax[2].plot(trainer.params_dict['history']['learning_rate'], label=\"Learning rate\")\n",
    "ax[2].set_title('Learning Rate')\n",
    "ax[2].legend();"
   ]
  }
 ],
 "metadata": {
  "kernelspec": {
   "display_name": "Python 3",
   "language": "python",
   "name": "python3"
  },
  "language_info": {
   "codemirror_mode": {
    "name": "ipython",
    "version": 3
   },
   "file_extension": ".py",
   "mimetype": "text/x-python",
   "name": "python",
   "nbconvert_exporter": "python",
   "pygments_lexer": "ipython3",
   "version": "3.7.3"
  }
 },
 "nbformat": 4,
 "nbformat_minor": 4
}
