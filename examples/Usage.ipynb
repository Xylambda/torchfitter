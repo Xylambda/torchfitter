{
 "cells": [
  {
   "cell_type": "code",
   "execution_count": 1,
   "metadata": {},
   "outputs": [],
   "source": [
    "%load_ext autoreload\n",
    "%autoreload 2"
   ]
  },
  {
   "cell_type": "code",
   "execution_count": 2,
   "metadata": {},
   "outputs": [],
   "source": [
    "import os\n",
    "import torch\n",
    "import numpy as np\n",
    "import torch.nn as nn\n",
    "import torch.optim as optim\n",
    "import matplotlib.pyplot as plt\n",
    "\n",
    "from pathlib import Path\n",
    "from torch.utils.data import DataLoader\n",
    "\n",
    "from torchfitter.trainer import Trainer\n",
    "from torchfitter.utils import DataWrapper\n",
    "from torchfitter.regularization import L1Regularization\n",
    "\n",
    "from sklearn.model_selection import train_test_split\n",
    "\n",
    "torch.manual_seed(0)\n",
    "np.random.seed(0)"
   ]
  },
  {
   "cell_type": "code",
   "execution_count": 3,
   "metadata": {},
   "outputs": [],
   "source": [
    "DATA_PATH = Path(os.path.abspath('')).parent / \"tests/data\""
   ]
  },
  {
   "cell_type": "code",
   "execution_count": 4,
   "metadata": {},
   "outputs": [],
   "source": [
    "X = np.load(DATA_PATH / \"features.npy\")\n",
    "y = np.load(DATA_PATH / \"labels.npy\")\n",
    "\n",
    "y = y.reshape(-1,1)"
   ]
  },
  {
   "cell_type": "code",
   "execution_count": 5,
   "metadata": {},
   "outputs": [],
   "source": [
    "from sklearn.datasets import make_regression"
   ]
  },
  {
   "cell_type": "code",
   "execution_count": 6,
   "metadata": {},
   "outputs": [],
   "source": [
    "# simplest case of cross-validation\n",
    "X_train, X_val, y_train, y_val = train_test_split(\n",
    "    X, \n",
    "    y, \n",
    "    test_size=0.33, \n",
    "    random_state=42\n",
    ")"
   ]
  },
  {
   "cell_type": "code",
   "execution_count": 7,
   "metadata": {},
   "outputs": [],
   "source": [
    "device = \"cuda\" if torch.cuda.is_available() else \"cpu\""
   ]
  },
  {
   "cell_type": "code",
   "execution_count": 8,
   "metadata": {},
   "outputs": [],
   "source": [
    "model = nn.Linear(in_features=1, out_features=1)\n",
    "model.to(device)\n",
    "\n",
    "regularizer = L1Regularization(regularization_rate=0.01, biases=False)\n",
    "criterion = nn.MSELoss()\n",
    "optimizer = optim.Adam(model.parameters())"
   ]
  },
  {
   "cell_type": "code",
   "execution_count": 9,
   "metadata": {},
   "outputs": [],
   "source": [
    "from torchfitter.callbacks import LoggerCallback, EarlyStopping"
   ]
  },
  {
   "cell_type": "code",
   "execution_count": 10,
   "metadata": {},
   "outputs": [],
   "source": [
    "logger = LoggerCallback(update_step=50)\n",
    "early_stopping = EarlyStopping(patience=50, load_best=True)"
   ]
  },
  {
   "cell_type": "code",
   "execution_count": 11,
   "metadata": {},
   "outputs": [],
   "source": [
    "trainer = Trainer(\n",
    "    model=model, \n",
    "    criterion=criterion,\n",
    "    optimizer=optimizer, \n",
    "    regularizer=regularizer,\n",
    "    device=device,\n",
    "    callbacks=[logger, early_stopping]\n",
    ")"
   ]
  },
  {
   "cell_type": "code",
   "execution_count": 12,
   "metadata": {},
   "outputs": [],
   "source": [
    "# wrap data in Dataset\n",
    "train_wrapper = DataWrapper(\n",
    "    X_train, \n",
    "    y_train, \n",
    "    dtype_X='float', \n",
    "    dtype_y='float'\n",
    ")\n",
    "val_wrapper = DataWrapper(X_val, y_val, dtype_X='float', dtype_y='float')\n",
    "\n",
    "# torch Loaders\n",
    "train_loader = DataLoader(train_wrapper, batch_size=32)\n",
    "val_loader = DataLoader(val_wrapper, batch_size=32)"
   ]
  },
  {
   "cell_type": "code",
   "execution_count": 13,
   "metadata": {
    "scrolled": true
   },
   "outputs": [
    {
     "name": "stderr",
     "output_type": "stream",
     "text": [
      "INFO:root:Starting training process on cpu\n"
     ]
    },
    {
     "data": {
      "application/vnd.jupyter.widget-view+json": {
       "model_id": "2e6d466aad5f433aba87c62db116b119",
       "version_major": 2,
       "version_minor": 0
      },
      "text/plain": [
       "HBox(children=(FloatProgress(value=0.0, max=5000.0), HTML(value='')))"
      ]
     },
     "metadata": {},
     "output_type": "display_data"
    },
    {
     "name": "stderr",
     "output_type": "stream",
     "text": [
      "INFO:root:Epoch: 0/5000     | Train loss: 8433.490211   | Validation loss: 8433.490211   | Time/epoch: 0.026350     \n",
      "INFO:root:Epoch: 1/5000     | Train loss: 8429.580636   | Validation loss: 8429.580636   | Time/epoch: 0.025430     \n",
      "INFO:root:Epoch: 50/5000     | Train loss: 8241.995698   | Validation loss: 8241.995698   | Time/epoch: 0.016890     \n",
      "INFO:root:Epoch: 100/5000     | Train loss: 8054.200707   | Validation loss: 8054.200707   | Time/epoch: 0.017910     \n",
      "INFO:root:Epoch: 150/5000     | Train loss: 7869.563035   | Validation loss: 7869.563035   | Time/epoch: 0.019110     \n",
      "INFO:root:Epoch: 200/5000     | Train loss: 7687.801293   | Validation loss: 7687.801293   | Time/epoch: 0.017710     \n",
      "INFO:root:Epoch: 250/5000     | Train loss: 7508.732329   | Validation loss: 7508.732329   | Time/epoch: 0.017980     \n",
      "INFO:root:Epoch: 300/5000     | Train loss: 7332.233887   | Validation loss: 7332.233887   | Time/epoch: 0.016990     \n",
      "INFO:root:Epoch: 350/5000     | Train loss: 7158.227655   | Validation loss: 7158.227655   | Time/epoch: 0.016770     \n",
      "INFO:root:Epoch: 400/5000     | Train loss: 6986.654367   | Validation loss: 6986.654367   | Time/epoch: 0.017620     \n",
      "INFO:root:Epoch: 450/5000     | Train loss: 6817.451009   | Validation loss: 6817.451009   | Time/epoch: 0.021760     \n",
      "INFO:root:Epoch: 500/5000     | Train loss: 6650.602655   | Validation loss: 6650.602655   | Time/epoch: 0.017340     \n",
      "INFO:root:Epoch: 550/5000     | Train loss: 6486.090820   | Validation loss: 6486.090820   | Time/epoch: 0.022770     \n",
      "INFO:root:Epoch: 600/5000     | Train loss: 6323.828381   | Validation loss: 6323.828381   | Time/epoch: 0.016700     \n",
      "INFO:root:Epoch: 650/5000     | Train loss: 6163.790574   | Validation loss: 6163.790574   | Time/epoch: 0.021550     \n",
      "INFO:root:Epoch: 700/5000     | Train loss: 6005.989025   | Validation loss: 6005.989025   | Time/epoch: 0.017570     \n",
      "INFO:root:Epoch: 750/5000     | Train loss: 5850.405645   | Validation loss: 5850.405645   | Time/epoch: 0.017330     \n",
      "INFO:root:Epoch: 800/5000     | Train loss: 5696.997907   | Validation loss: 5696.997907   | Time/epoch: 0.016960     \n",
      "INFO:root:Epoch: 850/5000     | Train loss: 5545.760300   | Validation loss: 5545.760300   | Time/epoch: 0.017710     \n",
      "INFO:root:Epoch: 900/5000     | Train loss: 5396.660005   | Validation loss: 5396.660005   | Time/epoch: 0.021770     \n",
      "INFO:root:Epoch: 950/5000     | Train loss: 5249.709728   | Validation loss: 5249.709728   | Time/epoch: 0.016980     \n",
      "INFO:root:Epoch: 1000/5000     | Train loss: 5104.877941   | Validation loss: 5104.877941   | Time/epoch: 0.017420     \n",
      "INFO:root:Epoch: 1050/5000     | Train loss: 4962.187012   | Validation loss: 4962.187012   | Time/epoch: 0.017110     \n",
      "INFO:root:Epoch: 1100/5000     | Train loss: 4821.604853   | Validation loss: 4821.604853   | Time/epoch: 0.016740     \n",
      "INFO:root:Epoch: 1150/5000     | Train loss: 4683.147903   | Validation loss: 4683.147903   | Time/epoch: 0.017170     \n",
      "INFO:root:Epoch: 1200/5000     | Train loss: 4546.783122   | Validation loss: 4546.783122   | Time/epoch: 0.016760     \n",
      "INFO:root:Epoch: 1250/5000     | Train loss: 4412.527704   | Validation loss: 4412.527704   | Time/epoch: 0.016920     \n",
      "INFO:root:Epoch: 1300/5000     | Train loss: 4280.373105   | Validation loss: 4280.373105   | Time/epoch: 0.017040     \n",
      "INFO:root:Epoch: 1350/5000     | Train loss: 4150.295178   | Validation loss: 4150.295178   | Time/epoch: 0.016690     \n",
      "INFO:root:Epoch: 1400/5000     | Train loss: 4022.298131   | Validation loss: 4022.298131   | Time/epoch: 0.016670     \n",
      "INFO:root:Epoch: 1450/5000     | Train loss: 3896.405808   | Validation loss: 3896.405808   | Time/epoch: 0.017560     \n",
      "INFO:root:Epoch: 1500/5000     | Train loss: 3772.586112   | Validation loss: 3772.586112   | Time/epoch: 0.019370     \n",
      "INFO:root:Epoch: 1550/5000     | Train loss: 3650.885486   | Validation loss: 3650.885486   | Time/epoch: 0.021450     \n",
      "INFO:root:Epoch: 1600/5000     | Train loss: 3531.233410   | Validation loss: 3531.233410   | Time/epoch: 0.018480     \n",
      "INFO:root:Epoch: 1650/5000     | Train loss: 3413.668980   | Validation loss: 3413.668980   | Time/epoch: 0.022650     \n",
      "INFO:root:Epoch: 1700/5000     | Train loss: 3298.183501   | Validation loss: 3298.183501   | Time/epoch: 0.020880     \n",
      "INFO:root:Epoch: 1750/5000     | Train loss: 3184.762544   | Validation loss: 3184.762544   | Time/epoch: 0.022610     \n",
      "INFO:root:Epoch: 1800/5000     | Train loss: 3073.469192   | Validation loss: 3073.469192   | Time/epoch: 0.019100     \n",
      "INFO:root:Epoch: 1850/5000     | Train loss: 2964.273403   | Validation loss: 2964.273403   | Time/epoch: 0.018200     \n",
      "INFO:root:Epoch: 1900/5000     | Train loss: 2857.152175   | Validation loss: 2857.152175   | Time/epoch: 0.017270     \n",
      "INFO:root:Epoch: 1950/5000     | Train loss: 2752.094732   | Validation loss: 2752.094732   | Time/epoch: 0.016870     \n",
      "INFO:root:Epoch: 2000/5000     | Train loss: 2649.081305   | Validation loss: 2649.081305   | Time/epoch: 0.017300     \n",
      "INFO:root:Epoch: 2050/5000     | Train loss: 2548.141369   | Validation loss: 2548.141369   | Time/epoch: 0.016940     \n",
      "INFO:root:Epoch: 2100/5000     | Train loss: 2449.267433   | Validation loss: 2449.267433   | Time/epoch: 0.019950     \n",
      "INFO:root:Epoch: 2150/5000     | Train loss: 2352.459513   | Validation loss: 2352.459513   | Time/epoch: 0.022100     \n",
      "INFO:root:Epoch: 2200/5000     | Train loss: 2257.750814   | Validation loss: 2257.750814   | Time/epoch: 0.017310     \n",
      "INFO:root:Epoch: 2250/5000     | Train loss: 2165.117222   | Validation loss: 2165.117222   | Time/epoch: 0.023550     \n",
      "INFO:root:Epoch: 2300/5000     | Train loss: 2074.564500   | Validation loss: 2074.564500   | Time/epoch: 0.017140     \n",
      "INFO:root:Epoch: 2350/5000     | Train loss: 1986.080270   | Validation loss: 1986.080270   | Time/epoch: 0.017500     \n",
      "INFO:root:Epoch: 2400/5000     | Train loss: 1899.651466   | Validation loss: 1899.651466   | Time/epoch: 0.017440     \n",
      "INFO:root:Epoch: 2450/5000     | Train loss: 1815.263277   | Validation loss: 1815.263277   | Time/epoch: 0.016450     \n",
      "INFO:root:Epoch: 2500/5000     | Train loss: 1732.968517   | Validation loss: 1732.968517   | Time/epoch: 0.016670     \n",
      "INFO:root:Epoch: 2550/5000     | Train loss: 1652.755482   | Validation loss: 1652.755482   | Time/epoch: 0.018190     \n",
      "INFO:root:Epoch: 2600/5000     | Train loss: 1574.598127   | Validation loss: 1574.598127   | Time/epoch: 0.022170     \n",
      "INFO:root:Epoch: 2650/5000     | Train loss: 1498.498192   | Validation loss: 1498.498192   | Time/epoch: 0.018160     \n",
      "INFO:root:Epoch: 2700/5000     | Train loss: 1424.455657   | Validation loss: 1424.455657   | Time/epoch: 0.016340     \n",
      "INFO:root:Epoch: 2750/5000     | Train loss: 1352.451445   | Validation loss: 1352.451445   | Time/epoch: 0.020230     \n",
      "INFO:root:Epoch: 2800/5000     | Train loss: 1282.521075   | Validation loss: 1282.521075   | Time/epoch: 0.018090     \n",
      "INFO:root:Epoch: 2850/5000     | Train loss: 1214.677487   | Validation loss: 1214.677487   | Time/epoch: 0.016880     \n",
      "INFO:root:Epoch: 2900/5000     | Train loss: 1148.868934   | Validation loss: 1148.868934   | Time/epoch: 0.017490     \n",
      "INFO:root:Epoch: 2950/5000     | Train loss: 1085.089199   | Validation loss: 1085.089199   | Time/epoch: 0.018040     \n",
      "INFO:root:Epoch: 3000/5000     | Train loss: 1023.365467   | Validation loss: 1023.365467   | Time/epoch: 0.016940     \n",
      "INFO:root:Epoch: 3050/5000     | Train loss: 963.721755    | Validation loss: 963.721755    | Time/epoch: 0.016240     \n",
      "INFO:root:Epoch: 3100/5000     | Train loss: 906.093616    | Validation loss: 906.093616    | Time/epoch: 0.017900     \n",
      "INFO:root:Epoch: 3150/5000     | Train loss: 850.506170    | Validation loss: 850.506170    | Time/epoch: 0.017280     \n",
      "INFO:root:Epoch: 3200/5000     | Train loss: 796.962708    | Validation loss: 796.962708    | Time/epoch: 0.016740     \n",
      "INFO:root:Epoch: 3250/5000     | Train loss: 745.458702    | Validation loss: 745.458702    | Time/epoch: 0.018850     \n",
      "INFO:root:Epoch: 3300/5000     | Train loss: 695.988934    | Validation loss: 695.988934    | Time/epoch: 0.016750     \n",
      "INFO:root:Epoch: 3350/5000     | Train loss: 648.554719    | Validation loss: 648.554719    | Time/epoch: 0.017250     \n"
     ]
    },
    {
     "name": "stderr",
     "output_type": "stream",
     "text": [
      "INFO:root:Epoch: 3400/5000     | Train loss: 603.156937    | Validation loss: 603.156937    | Time/epoch: 0.018900     \n",
      "INFO:root:Epoch: 3450/5000     | Train loss: 559.750525    | Validation loss: 559.750525    | Time/epoch: 0.017290     \n",
      "INFO:root:Epoch: 3500/5000     | Train loss: 518.382145    | Validation loss: 518.382145    | Time/epoch: 0.016220     \n",
      "INFO:root:Epoch: 3550/5000     | Train loss: 479.021502    | Validation loss: 479.021502    | Time/epoch: 0.017710     \n",
      "INFO:root:Epoch: 3600/5000     | Train loss: 441.671100    | Validation loss: 441.671100    | Time/epoch: 0.016770     \n",
      "INFO:root:Epoch: 3650/5000     | Train loss: 406.313013    | Validation loss: 406.313013    | Time/epoch: 0.016940     \n",
      "INFO:root:Epoch: 3700/5000     | Train loss: 372.961580    | Validation loss: 372.961580    | Time/epoch: 0.017660     \n",
      "INFO:root:Epoch: 3750/5000     | Train loss: 341.586760    | Validation loss: 341.586760    | Time/epoch: 0.017300     \n",
      "INFO:root:Epoch: 3800/5000     | Train loss: 312.200259    | Validation loss: 312.200259    | Time/epoch: 0.017070     \n",
      "INFO:root:Epoch: 3850/5000     | Train loss: 284.778884    | Validation loss: 284.778884    | Time/epoch: 0.018240     \n",
      "INFO:root:Epoch: 3900/5000     | Train loss: 259.316177    | Validation loss: 259.316177    | Time/epoch: 0.017300     \n",
      "INFO:root:Epoch: 3950/5000     | Train loss: 235.800484    | Validation loss: 235.800484    | Time/epoch: 0.017120     \n",
      "INFO:root:Epoch: 4000/5000     | Train loss: 214.223980    | Validation loss: 214.223980    | Time/epoch: 0.017350     \n",
      "INFO:root:Epoch: 4050/5000     | Train loss: 194.562957    | Validation loss: 194.562957    | Time/epoch: 0.016900     \n",
      "INFO:root:Epoch: 4100/5000     | Train loss: 176.802685    | Validation loss: 176.802685    | Time/epoch: 0.016730     \n",
      "INFO:root:Epoch: 4150/5000     | Train loss: 160.917548    | Validation loss: 160.917548    | Time/epoch: 0.017900     \n",
      "INFO:root:Epoch: 4200/5000     | Train loss: 146.885714    | Validation loss: 146.885714    | Time/epoch: 0.017100     \n",
      "INFO:root:Epoch: 4250/5000     | Train loss: 134.669588    | Validation loss: 134.669588    | Time/epoch: 0.017220     \n",
      "INFO:root:Epoch: 4300/5000     | Train loss: 124.231615    | Validation loss: 124.231615    | Time/epoch: 0.018030     \n",
      "INFO:root:Epoch: 4350/5000     | Train loss: 115.519179    | Validation loss: 115.519179    | Time/epoch: 0.016970     \n",
      "INFO:root:Epoch: 4400/5000     | Train loss: 108.464847    | Validation loss: 108.464847    | Time/epoch: 0.017580     \n",
      "INFO:root:Epoch: 4450/5000     | Train loss: 102.980536    | Validation loss: 102.980536    | Time/epoch: 0.017270     \n",
      "INFO:root:Epoch: 4500/5000     | Train loss: 98.946175     | Validation loss: 98.946175     | Time/epoch: 0.017160     \n",
      "INFO:root:Epoch: 4550/5000     | Train loss: 96.198065     | Validation loss: 96.198065     | Time/epoch: 0.016500     \n",
      "INFO:root:Epoch: 4600/5000     | Train loss: 94.516712     | Validation loss: 94.516712     | Time/epoch: 0.018440     \n",
      "INFO:root:Epoch: 4650/5000     | Train loss: 93.627292     | Validation loss: 93.627292     | Time/epoch: 0.017100     \n",
      "INFO:root:Epoch: 4700/5000     | Train loss: 93.234176     | Validation loss: 93.234176     | Time/epoch: 0.016310     \n",
      "INFO:root:Epoch: 4750/5000     | Train loss: 93.090229     | Validation loss: 93.090229     | Time/epoch: 0.017430     \n",
      "INFO:root:Epoch: 4800/5000     | Train loss: 93.045209     | Validation loss: 93.045209     | Time/epoch: 0.017360     \n",
      "INFO:root:Epoch: 4850/5000     | Train loss: 93.032553     | Validation loss: 93.032553     | Time/epoch: 0.016170     \n",
      "INFO:root:Epoch: 4900/5000     | Train loss: 93.029255     | Validation loss: 93.029255     | Time/epoch: 0.018220     \n",
      "INFO:root:Epoch: 4950/5000     | Train loss: 93.028439     | Validation loss: 93.028439     | Time/epoch: 0.016990     \n",
      "INFO:root:End of training. Total time: 90.53471 seconds\n"
     ]
    },
    {
     "name": "stdout",
     "output_type": "stream",
     "text": [
      "\n"
     ]
    }
   ],
   "source": [
    "# fitting process\n",
    "trainer.fit(train_loader, val_loader, epochs=5000)"
   ]
  },
  {
   "cell_type": "code",
   "execution_count": 14,
   "metadata": {},
   "outputs": [],
   "source": [
    "from torchfitter.conventions import ParamsDict"
   ]
  },
  {
   "cell_type": "code",
   "execution_count": 15,
   "metadata": {},
   "outputs": [],
   "source": [
    "# predictions\n",
    "with torch.no_grad():\n",
    "    y_pred = model(torch.from_numpy(X_val).float().to(device)).cpu().numpy()"
   ]
  },
  {
   "cell_type": "code",
   "execution_count": 16,
   "metadata": {},
   "outputs": [
    {
     "data": {
      "image/png": "[encoded data removed]",
      "text/plain": [
       "<Figure size 1224x360 with 2 Axes>"
      ]
     },
     "metadata": {
      "needs_background": "light"
     },
     "output_type": "display_data"
    }
   ],
   "source": [
    "fig, ax = plt.subplots(nrows=1, ncols=2, figsize=(17,5))\n",
    "\n",
    "ax[0].plot(trainer.params_dict['history']['train_loss'], label='Train loss')\n",
    "ax[0].plot(trainer.params_dict['history']['validation_loss'], label='Validation loss')\n",
    "ax[0].set_title('Train and validation losses')\n",
    "ax[0].legend();\n",
    "\n",
    "ax[1].plot(X_val, y_val, '.', label=\"Real\")\n",
    "ax[1].plot(X_val, y_pred, '.', label=\"Prediction\")\n",
    "ax[1].set_title('Predictions')\n",
    "ax[1].legend();"
   ]
  }
 ],
 "metadata": {
  "kernelspec": {
   "display_name": "Python 3",
   "language": "python",
   "name": "python3"
  },
  "language_info": {
   "codemirror_mode": {
    "name": "ipython",
    "version": 3
   },
   "file_extension": ".py",
   "mimetype": "text/x-python",
   "name": "python",
   "nbconvert_exporter": "python",
   "pygments_lexer": "ipython3",
   "version": "3.7.3"
  }
 },
 "nbformat": 4,
 "nbformat_minor": 4
}
