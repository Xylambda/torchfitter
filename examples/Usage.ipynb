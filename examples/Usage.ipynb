{
 "cells": [
  {
   "cell_type": "code",
   "execution_count": 1,
   "metadata": {},
   "outputs": [],
   "source": [
    "%load_ext autoreload\n",
    "%autoreload 2"
   ]
  },
  {
   "cell_type": "code",
   "execution_count": 2,
   "metadata": {},
   "outputs": [],
   "source": [
    "import os\n",
    "import torch\n",
    "import numpy as np\n",
    "import torch.nn as nn\n",
    "import torch.optim as optim\n",
    "import matplotlib.pyplot as plt\n",
    "\n",
    "from pathlib import Path\n",
    "from torch.utils.data import DataLoader\n",
    "\n",
    "from torchfitter.trainer import Trainer\n",
    "from torchfitter.utils import DataWrapper\n",
    "from torchfitter.regularization import L1Regularization\n",
    "\n",
    "from sklearn.model_selection import train_test_split\n",
    "\n",
    "torch.manual_seed(0)\n",
    "np.random.seed(0)"
   ]
  },
  {
   "cell_type": "code",
   "execution_count": 3,
   "metadata": {},
   "outputs": [],
   "source": [
    "DATA_PATH = Path(os.path.abspath('')).parent / \"tests/data\""
   ]
  },
  {
   "cell_type": "code",
   "execution_count": 4,
   "metadata": {},
   "outputs": [],
   "source": [
    "X = np.load(DATA_PATH / \"features.npy\")\n",
    "y = np.load(DATA_PATH / \"labels.npy\")\n",
    "\n",
    "y = y.reshape(-1,1)"
   ]
  },
  {
   "cell_type": "code",
   "execution_count": 5,
   "metadata": {},
   "outputs": [],
   "source": [
    "# simplest case of cross-validation\n",
    "X_train, X_val, y_train, y_val = train_test_split(\n",
    "    X, \n",
    "    y, \n",
    "    test_size=0.33, \n",
    "    random_state=42\n",
    ")"
   ]
  },
  {
   "cell_type": "code",
   "execution_count": 6,
   "metadata": {},
   "outputs": [],
   "source": [
    "device = \"cuda\" if torch.cuda.is_available() else \"cpu\""
   ]
  },
  {
   "cell_type": "code",
   "execution_count": 7,
   "metadata": {},
   "outputs": [],
   "source": [
    "model = nn.Linear(in_features=1, out_features=1)\n",
    "model.to(device)\n",
    "\n",
    "regularizer = L1Regularization(regularization_rate=0.01, biases=False)\n",
    "criterion = nn.MSELoss()\n",
    "optimizer = optim.Adam(model.parameters(), lr=0.005)"
   ]
  },
  {
   "cell_type": "code",
   "execution_count": 8,
   "metadata": {},
   "outputs": [],
   "source": [
    "from torchfitter.callbacks import LoggerCallback, EarlyStopping, LearningRateScheduler"
   ]
  },
  {
   "cell_type": "code",
   "execution_count": 9,
   "metadata": {},
   "outputs": [],
   "source": [
    "callbacks = [\n",
    "    LoggerCallback(update_step=50),\n",
    "    EarlyStopping(patience=100, load_best=True),\n",
    "    LearningRateScheduler(\n",
    "        scheduler=optim.lr_scheduler.StepLR(optimizer, step_size=500, gamma=0.9)\n",
    "    )\n",
    "]"
   ]
  },
  {
   "cell_type": "code",
   "execution_count": 10,
   "metadata": {},
   "outputs": [],
   "source": [
    "trainer = Trainer(\n",
    "    model=model, \n",
    "    criterion=criterion,\n",
    "    optimizer=optimizer, \n",
    "    regularizer=regularizer,\n",
    "    device=device,\n",
    "    callbacks=callbacks\n",
    ")"
   ]
  },
  {
   "cell_type": "code",
   "execution_count": 11,
   "metadata": {},
   "outputs": [],
   "source": [
    "# wrap data in Dataset\n",
    "train_wrapper = DataWrapper(\n",
    "    X_train, \n",
    "    y_train, \n",
    "    dtype_X='float', \n",
    "    dtype_y='float'\n",
    ")\n",
    "val_wrapper = DataWrapper(X_val, y_val, dtype_X='float', dtype_y='float')\n",
    "\n",
    "# torch Loaders\n",
    "train_loader = DataLoader(train_wrapper, batch_size=32)\n",
    "val_loader = DataLoader(val_wrapper, batch_size=32)"
   ]
  },
  {
   "cell_type": "code",
   "execution_count": 12,
   "metadata": {
    "scrolled": true
   },
   "outputs": [
    {
     "name": "stderr",
     "output_type": "stream",
     "text": [
      "INFO:root:Starting training process on cpu\n"
     ]
    },
    {
     "data": {
      "application/vnd.jupyter.widget-view+json": {
       "model_id": "8687a0e4ffcd4ce0aa38cda5a27549b8",
       "version_major": 2,
       "version_minor": 0
      },
      "text/plain": [
       "HBox(children=(FloatProgress(value=0.0, max=2000.0), HTML(value='')))"
      ]
     },
     "metadata": {},
     "output_type": "display_data"
    },
    {
     "name": "stderr",
     "output_type": "stream",
     "text": [
      "/Library/Frameworks/Python.framework/Versions/3.7/lib/python3.7/site-packages/torch/optim/lr_scheduler.py:136: UserWarning: Detected call of `lr_scheduler.step()` before `optimizer.step()`. In PyTorch 1.1.0 and later, you should call them in the opposite order: `optimizer.step()` before `lr_scheduler.step()`.  Failure to do this will result in PyTorch skipping the first value of the learning rate schedule. See more details at https://pytorch.org/docs/stable/optim.html#how-to-adjust-learning-rate\n",
      "  \"https://pytorch.org/docs/stable/optim.html#how-to-adjust-learning-rate\", UserWarning)\n",
      "INFO:root:Epoch: 0/2000     | Train loss: 8425.840053   | Validation loss: 8646.117409   | Time/epoch: 0.035690     \n",
      "INFO:root:Epoch: 1/2000     | Train loss: 8406.319545   | Validation loss: 8626.596147   | Time/epoch: 0.031420     \n",
      "INFO:root:Epoch: 50/2000     | Train loss: 7505.546875   | Validation loss: 7719.355424   | Time/epoch: 0.019670     \n",
      "INFO:root:Epoch: 100/2000     | Train loss: 6665.429199   | Validation loss: 6869.859641   | Time/epoch: 0.021690     \n",
      "INFO:root:Epoch: 150/2000     | Train loss: 5890.707659   | Validation loss: 6083.930242   | Time/epoch: 0.020930     \n",
      "INFO:root:Epoch: 200/2000     | Train loss: 5173.172875   | Validation loss: 5354.042636   | Time/epoch: 0.020940     \n",
      "INFO:root:Epoch: 250/2000     | Train loss: 4509.010719   | Validation loss: 4677.587669   | Time/epoch: 0.020870     \n",
      "INFO:root:Epoch: 300/2000     | Train loss: 3952.555327   | Validation loss: 4109.105713   | Time/epoch: 0.020790     \n",
      "INFO:root:Epoch: 350/2000     | Train loss: 3434.851039   | Validation loss: 3579.333762   | Time/epoch: 0.022930     \n",
      "INFO:root:Epoch: 400/2000     | Train loss: 2956.417376   | Validation loss: 3088.933261   | Time/epoch: 0.021230     \n",
      "INFO:root:Epoch: 450/2000     | Train loss: 2517.247936   | Validation loss: 2637.993830   | Time/epoch: 0.021670     \n",
      "INFO:root:Epoch: 500/2000     | Train loss: 2117.515892   | Validation loss: 2227.175637   | Time/epoch: 0.021390     \n",
      "INFO:root:Epoch: 550/2000     | Train loss: 1789.537074   | Validation loss: 1889.009200   | Time/epoch: 0.021080     \n",
      "INFO:root:Epoch: 600/2000     | Train loss: 1491.766631   | Validation loss: 1581.295921   | Time/epoch: 0.021420     \n",
      "INFO:root:Epoch: 650/2000     | Train loss: 1224.707842   | Validation loss: 1304.570679   | Time/epoch: 0.020840     \n",
      "INFO:root:Epoch: 700/2000     | Train loss: 988.270764    | Validation loss: 1058.764127   | Time/epoch: 0.022120     \n",
      "INFO:root:Epoch: 750/2000     | Train loss: 782.273658    | Validation loss: 843.932118    | Time/epoch: 0.021500     \n",
      "INFO:root:Epoch: 800/2000     | Train loss: 621.412029    | Validation loss: 675.132654    | Time/epoch: 0.020840     \n",
      "INFO:root:Epoch: 850/2000     | Train loss: 483.564671    | Validation loss: 529.608387    | Time/epoch: 0.021700     \n",
      "INFO:root:Epoch: 900/2000     | Train loss: 368.735469    | Validation loss: 407.407303    | Time/epoch: 0.023400     \n",
      "INFO:root:Epoch: 950/2000     | Train loss: 276.333359    | Validation loss: 307.984682    | Time/epoch: 0.022570     \n",
      "INFO:root:Epoch: 1000/2000     | Train loss: 205.414944    | Validation loss: 230.529562    | Time/epoch: 0.022010     \n",
      "INFO:root:Epoch: 1050/2000     | Train loss: 158.308669    | Validation loss: 177.821208    | Time/epoch: 0.021950     \n",
      "INFO:root:Epoch: 1100/2000     | Train loss: 125.810203    | Validation loss: 140.174236    | Time/epoch: 0.021170     \n",
      "INFO:root:Epoch: 1150/2000     | Train loss: 106.249282    | Validation loss: 116.104610    | Time/epoch: 0.021820     \n",
      "INFO:root:Epoch: 1200/2000     | Train loss: 96.794255     | Validation loss: 103.029963    | Time/epoch: 0.021840     \n",
      "INFO:root:Epoch: 1250/2000     | Train loss: 93.646298     | Validation loss: 97.438915     | Time/epoch: 0.022510     \n",
      "INFO:root:Epoch: 1300/2000     | Train loss: 93.088853     | Validation loss: 95.737522     | Time/epoch: 0.022490     \n",
      "INFO:root:Epoch: 1350/2000     | Train loss: 93.032739     | Validation loss: 95.276096     | Time/epoch: 0.022270     \n",
      "INFO:root:Epoch: 1400/2000     | Train loss: 93.030681     | Validation loss: 95.182348     | Time/epoch: 0.021100     \n",
      "INFO:root:Epoch: 1450/2000     | Train loss: 93.030780     | Validation loss: 95.167401     | Time/epoch: 0.022660     \n",
      "INFO:root:Epoch: 1500/2000     | Train loss: 93.030426     | Validation loss: 95.164671     | Time/epoch: 0.023020     \n",
      "INFO:root:Epoch: 1550/2000     | Train loss: 93.030444     | Validation loss: 95.164819     | Time/epoch: 0.023300     \n",
      "INFO:root:Best observed parameters loaded.\n",
      "INFO:root:End of training. Total time: 35.96008 seconds\n",
      "INFO:root:Early stopping applied at epoch: 1599\n"
     ]
    }
   ],
   "source": [
    "# fitting process\n",
    "trainer.fit(train_loader, val_loader, epochs=2000)"
   ]
  },
  {
   "cell_type": "code",
   "execution_count": 13,
   "metadata": {},
   "outputs": [],
   "source": [
    "# predictions\n",
    "with torch.no_grad():\n",
    "    y_pred = model(torch.from_numpy(X_val).float().to(device)).cpu().numpy()"
   ]
  },
  {
   "cell_type": "code",
   "execution_count": 14,
   "metadata": {},
   "outputs": [
    {
     "data": {
      "image/png": "[encoded data removed]",
      "text/plain": [
       "<Figure size 1368x288 with 3 Axes>"
      ]
     },
     "metadata": {
      "needs_background": "light"
     },
     "output_type": "display_data"
    }
   ],
   "source": [
    "fig, ax = plt.subplots(nrows=1, ncols=3, figsize=(19,4))\n",
    "\n",
    "ax[0].plot(trainer.params_dict['history']['train_loss'], label='Train loss')\n",
    "ax[0].plot(trainer.params_dict['history']['validation_loss'], label='Validation loss')\n",
    "ax[0].set_title('Train and validation losses')\n",
    "ax[0].legend();\n",
    "\n",
    "ax[1].plot(X_val, y_val, '.', label=\"Real\")\n",
    "ax[1].plot(X_val, y_pred, '.', label=\"Prediction\")\n",
    "ax[1].set_title('Predictions')\n",
    "ax[1].legend();\n",
    "\n",
    "\n",
    "ax[2].plot(trainer.params_dict['history']['learning_rate'], label=\"Learning rate\")\n",
    "ax[2].set_title('Learning Rate')\n",
    "ax[2].legend();"
   ]
  }
 ],
 "metadata": {
  "kernelspec": {
   "display_name": "Python 3",
   "language": "python",
   "name": "python3"
  },
  "language_info": {
   "codemirror_mode": {
    "name": "ipython",
    "version": 3
   },
   "file_extension": ".py",
   "mimetype": "text/x-python",
   "name": "python",
   "nbconvert_exporter": "python",
   "pygments_lexer": "ipython3",
   "version": "3.7.3"
  }
 },
 "nbformat": 4,
 "nbformat_minor": 4
}
