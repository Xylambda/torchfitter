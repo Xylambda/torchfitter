{
 "cells": [
  {
   "cell_type": "code",
   "execution_count": 1,
   "metadata": {},
   "outputs": [],
   "source": [
    "%load_ext autoreload\n",
    "%autoreload 2"
   ]
  },
  {
   "cell_type": "code",
   "execution_count": 2,
   "metadata": {},
   "outputs": [],
   "source": [
    "import os\n",
    "import torch\n",
    "import numpy as np\n",
    "import torch.nn as nn\n",
    "import torch.optim as optim\n",
    "import matplotlib.pyplot as plt\n",
    "\n",
    "from pathlib import Path\n",
    "from torch.utils.data import DataLoader\n",
    "\n",
    "from torchfitter.trainer import Trainer\n",
    "from torchfitter.utils import DataWrapper\n",
    "from torchfitter.regularization import L1Regularization\n",
    "\n",
    "from sklearn.model_selection import train_test_split\n",
    "\n",
    "torch.manual_seed(0)\n",
    "np.random.seed(0)"
   ]
  },
  {
   "cell_type": "code",
   "execution_count": 3,
   "metadata": {},
   "outputs": [],
   "source": [
    "DATA_PATH = Path(os.path.abspath('')).parent / \"tests/data\""
   ]
  },
  {
   "cell_type": "code",
   "execution_count": 4,
   "metadata": {},
   "outputs": [],
   "source": [
    "X = np.load(DATA_PATH / \"features.npy\")\n",
    "y = np.load(DATA_PATH / \"labels.npy\")\n",
    "\n",
    "y = y.reshape(-1,1)"
   ]
  },
  {
   "cell_type": "code",
   "execution_count": 5,
   "metadata": {},
   "outputs": [],
   "source": [
    "# simplest case of cross-validation\n",
    "X_train, X_val, y_train, y_val = train_test_split(\n",
    "    X, \n",
    "    y, \n",
    "    test_size=0.33, \n",
    "    random_state=42\n",
    ")"
   ]
  },
  {
   "cell_type": "code",
   "execution_count": 6,
   "metadata": {},
   "outputs": [],
   "source": [
    "device = \"cuda\" if torch.cuda.is_available() else \"cpu\""
   ]
  },
  {
   "cell_type": "code",
   "execution_count": 7,
   "metadata": {},
   "outputs": [],
   "source": [
    "model = nn.Linear(in_features=1, out_features=1)\n",
    "model.to(device)\n",
    "\n",
    "regularizer = L1Regularization(regularization_rate=0.01, biases=False)\n",
    "criterion = nn.MSELoss()\n",
    "optimizer = optim.Adam(model.parameters(), lr=0.005)"
   ]
  },
  {
   "cell_type": "code",
   "execution_count": 8,
   "metadata": {},
   "outputs": [],
   "source": [
    "from torchfitter.callbacks import LoggerCallback, EarlyStopping, LearningRateScheduler"
   ]
  },
  {
   "cell_type": "code",
   "execution_count": 9,
   "metadata": {},
   "outputs": [],
   "source": [
    "callbacks = [\n",
    "    LoggerCallback(update_step=100),\n",
    "    EarlyStopping(patience=100, load_best=True),\n",
    "    LearningRateScheduler(\n",
    "        scheduler=optim.lr_scheduler.StepLR(optimizer, step_size=500, gamma=0.9)\n",
    "    )\n",
    "]"
   ]
  },
  {
   "cell_type": "code",
   "execution_count": 10,
   "metadata": {},
   "outputs": [],
   "source": [
    "trainer = Trainer(\n",
    "    model=model, \n",
    "    criterion=criterion,\n",
    "    optimizer=optimizer, \n",
    "    regularizer=None, # regularizer\n",
    "    device=device,\n",
    "    callbacks=callbacks\n",
    ")"
   ]
  },
  {
   "cell_type": "code",
   "execution_count": 11,
   "metadata": {},
   "outputs": [],
   "source": [
    "# wrap data in Dataset\n",
    "train_wrapper = DataWrapper(\n",
    "    X_train, \n",
    "    y_train, \n",
    "    dtype_X='float', \n",
    "    dtype_y='float'\n",
    ")\n",
    "val_wrapper = DataWrapper(X_val, y_val, dtype_X='float', dtype_y='float')\n",
    "\n",
    "# torch Loaders\n",
    "train_loader = DataLoader(train_wrapper, batch_size=32, pin_memory=True)\n",
    "val_loader = DataLoader(val_wrapper, batch_size=32, pin_memory=True)"
   ]
  },
  {
   "cell_type": "code",
   "execution_count": 12,
   "metadata": {
    "scrolled": true
   },
   "outputs": [
    {
     "name": "stderr",
     "output_type": "stream",
     "text": [
      "INFO:root:Starting training process on cuda\n"
     ]
    },
    {
     "data": {
      "application/vnd.jupyter.widget-view+json": {
       "model_id": "e2699c9cadf7454980d76fae769cb487",
       "version_major": 2,
       "version_minor": 0
      },
      "text/plain": [
       "  0%|          | 0/2000 [00:00<?, ?it/s]"
      ]
     },
     "metadata": {},
     "output_type": "display_data"
    },
    {
     "name": "stderr",
     "output_type": "stream",
     "text": [
      "INFO:root:Epoch: 1/2000     | Train loss: 8425.839658   | Validation loss: 8646.116477   | Time/epoch: 0.354590     \n",
      "INFO:root:Epoch: 100/2000     | Train loss: 6681.455218   | Validation loss: 6886.093350   | Time/epoch: 0.047430     \n",
      "INFO:root:Epoch: 200/2000     | Train loss: 5186.798851   | Validation loss: 5367.922918   | Time/epoch: 0.055990     \n",
      "INFO:root:Epoch: 300/2000     | Train loss: 3960.719448   | Validation loss: 4117.459872   | Time/epoch: 0.058860     \n",
      "INFO:root:Epoch: 400/2000     | Train loss: 2963.304478   | Validation loss: 3096.008046   | Time/epoch: 0.055000     \n",
      "INFO:root:Epoch: 500/2000     | Train loss: 2122.722720   | Validation loss: 2232.139859   | Time/epoch: 0.056000     \n",
      "INFO:root:Epoch: 600/2000     | Train loss: 1494.413016   | Validation loss: 1584.052551   | Time/epoch: 0.048480     \n",
      "INFO:root:Epoch: 700/2000     | Train loss: 990.168823    | Validation loss: 1060.766141   | Time/epoch: 0.056000     \n",
      "INFO:root:Epoch: 800/2000     | Train loss: 621.679974    | Validation loss: 675.449929    | Time/epoch: 0.065540     \n",
      "INFO:root:Epoch: 900/2000     | Train loss: 368.675730    | Validation loss: 407.394975    | Time/epoch: 0.056000     \n",
      "INFO:root:Epoch: 1000/2000     | Train loss: 204.957575    | Validation loss: 230.038823    | Time/epoch: 0.053890     \n",
      "INFO:root:Epoch: 1100/2000     | Train loss: 125.009115    | Validation loss: 139.382514    | Time/epoch: 0.049000     \n",
      "INFO:root:Epoch: 1200/2000     | Train loss: 95.917914     | Validation loss: 102.160417    | Time/epoch: 0.065640     \n",
      "INFO:root:Epoch: 1300/2000     | Train loss: 92.182382     | Validation loss: 94.829070     | Time/epoch: 0.059350     \n",
      "INFO:root:Epoch: 1400/2000     | Train loss: 92.122277     | Validation loss: 94.273900     | Time/epoch: 0.071210     \n",
      "INFO:root:Epoch: 1500/2000     | Train loss: 92.122324     | Validation loss: 94.256181     | Time/epoch: 0.054200     \n",
      "INFO:root:Best observed parameters loaded.\n",
      "INFO:root:End of training. Total time: 92.62256 seconds\n",
      "INFO:root:Early stopping applied at epoch: 1599\n"
     ]
    }
   ],
   "source": [
    "# fitting process\n",
    "trainer.fit(train_loader, val_loader, epochs=2000)"
   ]
  },
  {
   "cell_type": "code",
   "execution_count": 13,
   "metadata": {},
   "outputs": [],
   "source": [
    "# predictions\n",
    "with torch.no_grad():\n",
    "    y_pred = model(torch.from_numpy(X_val).float().to(device)).cpu().numpy()"
   ]
  },
  {
   "cell_type": "code",
   "execution_count": 14,
   "metadata": {},
   "outputs": [
    {
     "data": {
      "image/png": "[encoded data removed]",
      "text/plain": [
       "<Figure size 1368x288 with 3 Axes>"
      ]
     },
     "metadata": {
      "needs_background": "light"
     },
     "output_type": "display_data"
    }
   ],
   "source": [
    "fig, ax = plt.subplots(nrows=1, ncols=3, figsize=(19,4))\n",
    "\n",
    "ax[0].plot(trainer.params_dict['history']['train_loss'], label='Train loss')\n",
    "ax[0].plot(trainer.params_dict['history']['validation_loss'], label='Validation loss')\n",
    "ax[0].set_title('Train and validation losses')\n",
    "ax[0].legend();\n",
    "\n",
    "ax[1].plot(X_val, y_val, '.', label=\"Real\")\n",
    "ax[1].plot(X_val, y_pred, '.', label=\"Prediction\")\n",
    "ax[1].set_title('Predictions')\n",
    "ax[1].legend();\n",
    "\n",
    "\n",
    "ax[2].plot(trainer.params_dict['history']['learning_rate'], label=\"Learning rate\")\n",
    "ax[2].set_title('Learning Rate')\n",
    "ax[2].legend();"
   ]
  }
 ],
 "metadata": {
  "kernelspec": {
   "display_name": "Python 3",
   "language": "python",
   "name": "python3"
  },
  "language_info": {
   "codemirror_mode": {
    "name": "ipython",
    "version": 3
   },
   "file_extension": ".py",
   "mimetype": "text/x-python",
   "name": "python",
   "nbconvert_exporter": "python",
   "pygments_lexer": "ipython3",
   "version": "3.7.10"
  }
 },
 "nbformat": 4,
 "nbformat_minor": 4
}
