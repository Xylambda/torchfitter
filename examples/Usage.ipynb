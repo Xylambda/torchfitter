{
 "cells": [
  {
   "cell_type": "code",
   "execution_count": 1,
   "metadata": {},
   "outputs": [],
   "source": [
    "%load_ext autoreload\n",
    "%autoreload 2"
   ]
  },
  {
   "cell_type": "code",
   "execution_count": 2,
   "metadata": {},
   "outputs": [],
   "source": [
    "import os\n",
    "import torch\n",
    "import numpy as np\n",
    "import torch.nn as nn\n",
    "import torch.optim as optim\n",
    "import matplotlib.pyplot as plt\n",
    "\n",
    "from pathlib import Path\n",
    "from torch.utils.data import DataLoader\n",
    "\n",
    "from torchfitter.trainer import Trainer\n",
    "from torchfitter.utils import DataWrapper\n",
    "from torchfitter.regularization import L1Regularization\n",
    "\n",
    "from sklearn.model_selection import train_test_split\n",
    "\n",
    "torch.manual_seed(0)\n",
    "np.random.seed(0)"
   ]
  },
  {
   "cell_type": "code",
   "execution_count": 3,
   "metadata": {},
   "outputs": [],
   "source": [
    "DATA_PATH = Path(os.path.abspath('')).parent / \"tests/data\""
   ]
  },
  {
   "cell_type": "code",
   "execution_count": 4,
   "metadata": {},
   "outputs": [],
   "source": [
    "X = np.load(DATA_PATH / \"features.npy\")\n",
    "y = np.load(DATA_PATH / \"labels.npy\")\n",
    "\n",
    "y = y.reshape(-1,1)"
   ]
  },
  {
   "cell_type": "code",
   "execution_count": 5,
   "metadata": {},
   "outputs": [],
   "source": [
    "# simplest case of cross-validation\n",
    "X_train, X_val, y_train, y_val = train_test_split(\n",
    "    X, \n",
    "    y, \n",
    "    test_size=0.33, \n",
    "    random_state=42\n",
    ")"
   ]
  },
  {
   "cell_type": "code",
   "execution_count": 6,
   "metadata": {},
   "outputs": [],
   "source": [
    "device = \"cuda\" if torch.cuda.is_available() else \"cpu\""
   ]
  },
  {
   "cell_type": "code",
   "execution_count": 7,
   "metadata": {},
   "outputs": [],
   "source": [
    "model = nn.Linear(in_features=1, out_features=1)\n",
    "model.to(device)\n",
    "\n",
    "regularizer = L1Regularization(regularization_rate=0.01, biases=False)\n",
    "criterion = nn.MSELoss()\n",
    "optimizer = optim.Adam(model.parameters())"
   ]
  },
  {
   "cell_type": "code",
   "execution_count": 8,
   "metadata": {},
   "outputs": [],
   "source": [
    "from torchfitter.callbacks import LoggerCallback, EarlyStopping"
   ]
  },
  {
   "cell_type": "code",
   "execution_count": 9,
   "metadata": {},
   "outputs": [],
   "source": [
    "logger = LoggerCallback(update_step=50)\n",
    "early_stopping = EarlyStopping(patience=50)"
   ]
  },
  {
   "cell_type": "code",
   "execution_count": 10,
   "metadata": {},
   "outputs": [
    {
     "name": "stdout",
     "output_type": "stream",
     "text": [
      "Location:                    0 Revision 0\n",
      "Location:                    1 Revision 1\n",
      "Location:                    2 Revision 2\n",
      "Location:                    3 Revision 3\n",
      "Location:                    4 Revision 4\n"
     ]
    }
   ],
   "source": [
    "for i in range(0,5):\n",
    "    print(f\"Location: {i:20} Revision {i:1}\")"
   ]
  },
  {
   "cell_type": "code",
   "execution_count": 11,
   "metadata": {},
   "outputs": [],
   "source": [
    "trainer = Trainer(\n",
    "    model=model, \n",
    "    criterion=criterion,\n",
    "    optimizer=optimizer, \n",
    "    regularizer=regularizer,\n",
    "    device=device,\n",
    "    callbacks=[logger, early_stopping]\n",
    ")"
   ]
  },
  {
   "cell_type": "code",
   "execution_count": 12,
   "metadata": {},
   "outputs": [],
   "source": [
    "# wrap data in Dataset\n",
    "train_wrapper = DataWrapper(\n",
    "    X_train, \n",
    "    y_train, \n",
    "    dtype_X='float', \n",
    "    dtype_y='float'\n",
    ")\n",
    "val_wrapper = DataWrapper(X_val, y_val, dtype_X='float', dtype_y='float')\n",
    "\n",
    "# torch Loaders\n",
    "train_loader = DataLoader(train_wrapper, batch_size=32)\n",
    "val_loader = DataLoader(val_wrapper, batch_size=32)"
   ]
  },
  {
   "cell_type": "code",
   "execution_count": 13,
   "metadata": {
    "scrolled": true
   },
   "outputs": [
    {
     "name": "stderr",
     "output_type": "stream",
     "text": [
      "INFO:root:Starting training process on cpu\n"
     ]
    },
    {
     "data": {
      "application/vnd.jupyter.widget-view+json": {
       "model_id": "7ec0b532463745d1b676d24e852d3301",
       "version_major": 2,
       "version_minor": 0
      },
      "text/plain": [
       "HBox(children=(FloatProgress(value=0.0, max=1000.0), HTML(value='')))"
      ]
     },
     "metadata": {},
     "output_type": "display_data"
    },
    {
     "name": "stderr",
     "output_type": "stream",
     "text": [
      "INFO:root:Epoch 0/            1000 | Train loss: 8433.490211123511 | Validation loss: 8433.490211123511 | Time/epoch:          0.02817 seconds\n",
      "INFO:root:Epoch 1/            1000 | Train loss: 8429.580636160714 | Validation loss: 8429.580636160714 | Time/epoch:          0.02742 seconds\n",
      "INFO:root:Epoch 50/            1000 | Train loss: 8241.995698474702 | Validation loss: 8241.995698474702 | Time/epoch:          0.01869 seconds\n",
      "INFO:root:Epoch 100/            1000 | Train loss: 8054.2007068452385 | Validation loss: 8054.2007068452385 | Time/epoch:          0.01752 seconds\n",
      "INFO:root:Epoch 150/            1000 | Train loss: 7869.563034784226 | Validation loss: 7869.563034784226 | Time/epoch:          0.01621 seconds\n",
      "INFO:root:Epoch 200/            1000 | Train loss: 7687.8012927827385 | Validation loss: 7687.8012927827385 | Time/epoch:          0.01805 seconds\n",
      "INFO:root:Epoch 250/            1000 | Train loss: 7508.732328869048 | Validation loss: 7508.732328869048 | Time/epoch:          0.01707 seconds\n",
      "INFO:root:Epoch 300/            1000 | Train loss: 7332.23388671875 | Validation loss: 7332.23388671875 | Time/epoch:          0.01635 seconds\n",
      "INFO:root:Epoch 350/            1000 | Train loss: 7158.227655319941 | Validation loss: 7158.227655319941 | Time/epoch:          0.02184 seconds\n",
      "INFO:root:Epoch 400/            1000 | Train loss: 6986.654366629465 | Validation loss: 6986.654366629465 | Time/epoch:          0.01669 seconds\n",
      "INFO:root:Epoch 450/            1000 | Train loss: 6817.451009114583 | Validation loss: 6817.451009114583 | Time/epoch:          0.01684 seconds\n",
      "INFO:root:Epoch 500/            1000 | Train loss: 6650.602655319941 | Validation loss: 6650.602655319941 | Time/epoch:            0.017 seconds\n",
      "INFO:root:Epoch 550/            1000 | Train loss:  6486.0908203125 | Validation loss:  6486.0908203125 | Time/epoch:          0.01767 seconds\n",
      "INFO:root:Epoch 600/            1000 | Train loss: 6323.828380766369 | Validation loss: 6323.828380766369 | Time/epoch:          0.02454 seconds\n",
      "INFO:root:Epoch 650/            1000 | Train loss: 6163.790573846726 | Validation loss: 6163.790573846726 | Time/epoch:           0.0171 seconds\n",
      "INFO:root:Epoch 700/            1000 | Train loss: 6005.989025297619 | Validation loss: 6005.989025297619 | Time/epoch:          0.01651 seconds\n",
      "INFO:root:Epoch 750/            1000 | Train loss: 5850.405645461309 | Validation loss: 5850.405645461309 | Time/epoch:          0.01802 seconds\n",
      "INFO:root:Epoch 800/            1000 | Train loss: 5696.997907366072 | Validation loss: 5696.997907366072 | Time/epoch:          0.01747 seconds\n",
      "INFO:root:Epoch 850/            1000 | Train loss: 5545.760300409226 | Validation loss: 5545.760300409226 | Time/epoch:          0.01924 seconds\n",
      "INFO:root:Epoch 900/            1000 | Train loss: 5396.660005115327 | Validation loss: 5396.660005115327 | Time/epoch:          0.01821 seconds\n",
      "INFO:root:Epoch 950/            1000 | Train loss: 5249.709728422619 | Validation loss: 5249.709728422619 | Time/epoch:          0.01671 seconds\n",
      "INFO:root:End of training. Total time: 18.51265 seconds\n"
     ]
    },
    {
     "name": "stdout",
     "output_type": "stream",
     "text": [
      "\n"
     ]
    }
   ],
   "source": [
    "# fitting process\n",
    "trainer.fit(train_loader, val_loader, epochs=1000)"
   ]
  },
  {
   "cell_type": "code",
   "execution_count": 14,
   "metadata": {},
   "outputs": [],
   "source": [
    "from torchfitter.conventions import ParamsDict"
   ]
  },
  {
   "cell_type": "code",
   "execution_count": 15,
   "metadata": {},
   "outputs": [],
   "source": [
    "# predictions\n",
    "with torch.no_grad():\n",
    "    y_pred = model(torch.from_numpy(X_val).float().to(device)).cpu().numpy()"
   ]
  },
  {
   "cell_type": "code",
   "execution_count": 16,
   "metadata": {},
   "outputs": [
    {
     "name": "stdout",
     "output_type": "stream",
     "text": [
      "|Python Users    |Java Users      |\n",
      "|             8.2|             7.5|\n"
     ]
    }
   ],
   "source": [
    "python, java, p_num, j_num = [\"Python Users\", \"Java Users\", 8.2, 7.5]\n",
    "print(f\"|{python:16}|{java:16}|\\n|{p_num:16}|{j_num:16}|\")"
   ]
  },
  {
   "cell_type": "code",
   "execution_count": 17,
   "metadata": {},
   "outputs": [
    {
     "data": {
      "image/png": "[encoded data removed]",
      "text/plain": [
       "<Figure size 1224x360 with 2 Axes>"
      ]
     },
     "metadata": {
      "needs_background": "light"
     },
     "output_type": "display_data"
    }
   ],
   "source": [
    "fig, ax = plt.subplots(nrows=1, ncols=2, figsize=(17,5))\n",
    "\n",
    "ax[0].plot(trainer.params_dict['history']['train_loss'], label='Train loss')\n",
    "ax[0].plot(trainer.params_dict['history']['validation_loss'], label='Validation loss')\n",
    "ax[0].set_title('Train and validation losses')\n",
    "ax[0].legend();\n",
    "\n",
    "ax[1].plot(X_val, y_val, '.', label=\"Real\")\n",
    "ax[1].plot(X_val, y_pred, '.', label=\"Prediction\")\n",
    "ax[1].set_title('Predictions')\n",
    "ax[1].legend();"
   ]
  }
 ],
 "metadata": {
  "kernelspec": {
   "display_name": "Python 3",
   "language": "python",
   "name": "python3"
  },
  "language_info": {
   "codemirror_mode": {
    "name": "ipython",
    "version": 3
   },
   "file_extension": ".py",
   "mimetype": "text/x-python",
   "name": "python",
   "nbconvert_exporter": "python",
   "pygments_lexer": "ipython3",
   "version": "3.7.3"
  }
 },
 "nbformat": 4,
 "nbformat_minor": 4
}
