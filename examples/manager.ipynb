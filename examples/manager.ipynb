{
 "cells": [
  {
   "cell_type": "code",
   "execution_count": 1,
   "metadata": {},
   "outputs": [],
   "source": [
    "%load_ext autoreload\n",
    "%autoreload 2"
   ]
  },
  {
   "cell_type": "code",
   "execution_count": 2,
   "metadata": {},
   "outputs": [],
   "source": [
    "import os\n",
    "import torch\n",
    "import numpy as np\n",
    "import torch.nn as nn\n",
    "import torch.optim as optim\n",
    "import matplotlib.pyplot as plt\n",
    "\n",
    "from pathlib import Path\n",
    "from torch.utils.data import DataLoader\n",
    "\n",
    "from torchfitter import io\n",
    "from torchfitter.trainer import Trainer\n",
    "from torchfitter.utils import DataWrapper\n",
    "from torchfitter.regularization import L1Regularization\n",
    "from torchfitter.callbacks import LoggerCallback, EarlyStopping, LearningRateScheduler\n",
    "\n",
    "from sklearn.model_selection import train_test_split\n",
    "\n",
    "torch.manual_seed(0)\n",
    "np.random.seed(0)"
   ]
  },
  {
   "cell_type": "code",
   "execution_count": 3,
   "metadata": {},
   "outputs": [],
   "source": [
    "DATA_PATH = Path(os.path.abspath('')).parent / \"tests/data\""
   ]
  },
  {
   "cell_type": "code",
   "execution_count": 4,
   "metadata": {},
   "outputs": [],
   "source": [
    "def experiment_func(seed, folder_name):\n",
    "    device = \"cuda\" if torch.cuda.is_available() else \"cpu\"\n",
    "    subfolder = folder_name / f\"experiment_{seed}\"\n",
    "    \n",
    "    if f\"experiment_{seed}\" not in os.listdir(folder_name):\n",
    "        os.mkdir(subfolder)\n",
    "    \n",
    "    # ---------------------------------------------------------------------\n",
    "    # split\n",
    "    X = np.load(DATA_PATH / \"features.npy\")\n",
    "    y = np.load(DATA_PATH / \"labels.npy\")\n",
    "    y = y.reshape(-1,1)\n",
    "    \n",
    "    # simplest case of cross-validation\n",
    "    X_train, X_val, y_train, y_val = train_test_split(\n",
    "        X, \n",
    "        y, \n",
    "        test_size=0.33, \n",
    "        random_state=42\n",
    "    )\n",
    "    \n",
    "    # wrap data in Dataset\n",
    "    train_wrapper = DataWrapper(\n",
    "        X_train, \n",
    "        y_train, \n",
    "        dtype_X='float', \n",
    "        dtype_y='float'\n",
    "    )\n",
    "    val_wrapper = DataWrapper(\n",
    "        X_val,\n",
    "        y_val,\n",
    "        dtype_X='float',\n",
    "        dtype_y='float'\n",
    "    )\n",
    "\n",
    "    # torch Loaders\n",
    "    train_loader = DataLoader(train_wrapper, batch_size=64, pin_memory=True)\n",
    "    val_loader = DataLoader(val_wrapper, batch_size=64, pin_memory=True)\n",
    "\n",
    "    # ---------------------------------------------------------------------\n",
    "    # model creatiom\n",
    "    model = nn.Linear(in_features=1, out_features=1)\n",
    "    model.to(device)\n",
    "    \n",
    "    # optimization settings \n",
    "    regularizer = L1Regularization(regularization_rate=0.01, biases=False)\n",
    "    criterion = nn.MSELoss()\n",
    "    optimizer = optim.Adam(model.parameters(), lr=0.005)\n",
    "    \n",
    "    # ---------------------------------------------------------------------\n",
    "    callbacks = [\n",
    "        LoggerCallback(update_step=100),\n",
    "        EarlyStopping(patience=50, load_best=False, path=subfolder / 'checkpoint.pt'),\n",
    "        LearningRateScheduler(\n",
    "            scheduler=optim.lr_scheduler.StepLR(optimizer, step_size=500, gamma=0.9)\n",
    "        )\n",
    "    ]\n",
    "\n",
    "    # trainer\n",
    "    trainer = Trainer(\n",
    "        model=model, \n",
    "        criterion=criterion,\n",
    "        optimizer=optimizer, \n",
    "        regularizer=regularizer,\n",
    "        device=device,\n",
    "        callbacks=callbacks,\n",
    "    )\n",
    "    \n",
    "    # run training\n",
    "    trainer.fit(train_loader, val_loader, 5000, disable_pbar=True)\n",
    "    \n",
    "    # ---------------------------------------------------------------------\n",
    "    # model state\n",
    "    torch.save(trainer.model.state_dict(), subfolder / 'model_state.pt')\n",
    "    \n",
    "    # optim state\n",
    "    torch.save(trainer.optimizer.state_dict(), subfolder / 'optim_state.pt')\n",
    "    \n",
    "    # history\n",
    "    io.save_pickle(\n",
    "        obj=trainer.internal_state.get_state_dict()['history'],\n",
    "        path=subfolder / 'history.pkl'\n",
    "    )"
   ]
  },
  {
   "cell_type": "markdown",
   "metadata": {},
   "source": [
    "----"
   ]
  },
  {
   "cell_type": "code",
   "execution_count": 5,
   "metadata": {},
   "outputs": [],
   "source": [
    "from torchfitter.manager import Manager"
   ]
  },
  {
   "cell_type": "code",
   "execution_count": 6,
   "metadata": {},
   "outputs": [],
   "source": [
    "# define random seeds\n",
    "seeds = (0, 5, 10)\n",
    "folder = Path('experiments')\n",
    "\n",
    "manager = Manager(\n",
    "    seeds=seeds,\n",
    "    folder_name=folder\n",
    ")"
   ]
  },
  {
   "cell_type": "code",
   "execution_count": 7,
   "metadata": {
    "scrolled": true
   },
   "outputs": [
    {
     "name": "stderr",
     "output_type": "stream",
     "text": [
      "INFO:root:Starting training process on cuda\n",
      "INFO:root:End of training. Total time: 131.10460 seconds\n",
      "INFO:root:Early stopping applied at epoch: 2941\n",
      "INFO:root:Starting training process on cuda\n",
      "INFO:root:End of training. Total time: 132.64933 seconds\n",
      "INFO:root:Early stopping applied at epoch: 2922\n",
      "INFO:root:Starting training process on cuda\n",
      "INFO:root:End of training. Total time: 134.16150 seconds\n",
      "INFO:root:Early stopping applied at epoch: 2943\n"
     ]
    }
   ],
   "source": [
    "manager.run_experiments(experiment_func=experiment_func)"
   ]
  },
  {
   "cell_type": "code",
   "execution_count": 9,
   "metadata": {},
   "outputs": [],
   "source": [
    "from torchfitter.io import load_pickle"
   ]
  },
  {
   "cell_type": "code",
   "execution_count": 10,
   "metadata": {},
   "outputs": [],
   "source": [
    "experiments = {}\n",
    "\n",
    "for seed in seeds:\n",
    "    mod = torch.load(folder / f'experiment_{seed}/model_state.pt')\n",
    "    best = torch.load(folder / f'experiment_{seed}/checkpoint.pt')\n",
    "    op = torch.load(folder / f'experiment_{seed}/optim_state.pt')\n",
    "    hist = load_pickle(folder / f'experiment_{seed}/history.pkl')\n",
    "    \n",
    "    experiments[seed] = {}\n",
    "    \n",
    "    experiments[seed]['model'] = mod\n",
    "    experiments[seed]['best_model'] = best\n",
    "    experiments[seed]['optimizer'] = op\n",
    "    experiments[seed]['history'] = hist"
   ]
  },
  {
   "cell_type": "code",
   "execution_count": 11,
   "metadata": {
    "scrolled": false
   },
   "outputs": [
    {
     "data": {
      "image/png": "[encoded data removed]",
      "text/plain": [
       "<Figure size 1224x360 with 2 Axes>"
      ]
     },
     "metadata": {
      "needs_background": "light"
     },
     "output_type": "display_data"
    }
   ],
   "source": [
    "fig, ax = plt.subplots(nrows=1, ncols=2, figsize=(17, 5))\n",
    "\n",
    "for key in experiments.keys():\n",
    "    hist = experiments[key]['history']\n",
    "    \n",
    "    ax[0].plot(hist['train_loss'], label=f'Experiment {key}')\n",
    "    ax[0].set_title('Train loss')\n",
    "    ax[0].legend()\n",
    "    \n",
    "    ax[1].plot(hist['validation_loss'], label=f'Experiment {key}')\n",
    "    ax[1].set_title('Validation loss')\n",
    "    ax[1].legend()"
   ]
  },
  {
   "cell_type": "markdown",
   "metadata": {},
   "source": [
    "----"
   ]
  },
  {
   "cell_type": "code",
   "execution_count": 12,
   "metadata": {},
   "outputs": [
    {
     "data": {
      "text/plain": [
       "OrderedDict([('weight', tensor([[90.8703]], device='cuda:0')),\n",
       "             ('bias', tensor([0.0947], device='cuda:0'))])"
      ]
     },
     "execution_count": 12,
     "metadata": {},
     "output_type": "execute_result"
    }
   ],
   "source": [
    "experiments[0]['model']"
   ]
  },
  {
   "cell_type": "code",
   "execution_count": 13,
   "metadata": {},
   "outputs": [
    {
     "data": {
      "text/plain": [
       "OrderedDict([('weight', tensor([[90.8704]], device='cuda:0')),\n",
       "             ('bias', tensor([0.0947], device='cuda:0'))])"
      ]
     },
     "execution_count": 13,
     "metadata": {},
     "output_type": "execute_result"
    }
   ],
   "source": [
    "experiments[0]['best_model']"
   ]
  },
  {
   "cell_type": "markdown",
   "metadata": {},
   "source": [
    "---"
   ]
  },
  {
   "cell_type": "code",
   "execution_count": 14,
   "metadata": {},
   "outputs": [
    {
     "data": {
      "text/plain": [
       "OrderedDict([('weight', tensor([[90.8703]], device='cuda:0')),\n",
       "             ('bias', tensor([0.0947], device='cuda:0'))])"
      ]
     },
     "execution_count": 14,
     "metadata": {},
     "output_type": "execute_result"
    }
   ],
   "source": [
    "experiments[5]['model']"
   ]
  },
  {
   "cell_type": "code",
   "execution_count": 15,
   "metadata": {},
   "outputs": [
    {
     "data": {
      "text/plain": [
       "OrderedDict([('weight', tensor([[90.8704]], device='cuda:0')),\n",
       "             ('bias', tensor([0.0947], device='cuda:0'))])"
      ]
     },
     "execution_count": 15,
     "metadata": {},
     "output_type": "execute_result"
    }
   ],
   "source": [
    "experiments[5]['best_model']"
   ]
  },
  {
   "cell_type": "markdown",
   "metadata": {},
   "source": [
    "----"
   ]
  },
  {
   "cell_type": "code",
   "execution_count": 16,
   "metadata": {},
   "outputs": [
    {
     "data": {
      "text/plain": [
       "OrderedDict([('weight', tensor([[90.8703]], device='cuda:0')),\n",
       "             ('bias', tensor([0.0947], device='cuda:0'))])"
      ]
     },
     "execution_count": 16,
     "metadata": {},
     "output_type": "execute_result"
    }
   ],
   "source": [
    "experiments[10]['model']"
   ]
  },
  {
   "cell_type": "code",
   "execution_count": 17,
   "metadata": {},
   "outputs": [
    {
     "data": {
      "text/plain": [
       "OrderedDict([('weight', tensor([[90.8704]], device='cuda:0')),\n",
       "             ('bias', tensor([0.0947], device='cuda:0'))])"
      ]
     },
     "execution_count": 17,
     "metadata": {},
     "output_type": "execute_result"
    }
   ],
   "source": [
    "experiments[10]['best_model']"
   ]
  },
  {
   "cell_type": "markdown",
   "metadata": {},
   "source": [
    "---"
   ]
  }
 ],
 "metadata": {
  "kernelspec": {
   "display_name": "Python 3",
   "language": "python",
   "name": "python3"
  },
  "language_info": {
   "codemirror_mode": {
    "name": "ipython",
    "version": 3
   },
   "file_extension": ".py",
   "mimetype": "text/x-python",
   "name": "python",
   "nbconvert_exporter": "python",
   "pygments_lexer": "ipython3",
   "version": "3.8.3"
  }
 },
 "nbformat": 4,
 "nbformat_minor": 5
}
