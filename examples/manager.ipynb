{
 "cells": [
  {
   "cell_type": "code",
   "execution_count": 1,
   "id": "04febde1",
   "metadata": {},
   "outputs": [],
   "source": [
    "%load_ext autoreload\n",
    "%autoreload 2"
   ]
  },
  {
   "cell_type": "code",
   "execution_count": 2,
   "id": "619c8a73",
   "metadata": {},
   "outputs": [],
   "source": [
    "import os\n",
    "import torch\n",
    "import numpy as np\n",
    "import torch.nn as nn\n",
    "import torch.optim as optim\n",
    "import matplotlib.pyplot as plt\n",
    "\n",
    "from pathlib import Path\n",
    "from torch.utils.data import DataLoader\n",
    "\n",
    "from torchfitter.trainer import Trainer\n",
    "from torchfitter.utils import DataWrapper\n",
    "from torchfitter.regularization import L1Regularization\n",
    "\n",
    "from sklearn.model_selection import train_test_split\n",
    "\n",
    "torch.manual_seed(0)\n",
    "np.random.seed(0)"
   ]
  },
  {
   "cell_type": "code",
   "execution_count": 3,
   "id": "8d70682f",
   "metadata": {},
   "outputs": [],
   "source": [
    "DATA_PATH = Path(os.path.abspath('')).parent / \"tests/data\""
   ]
  },
  {
   "cell_type": "code",
   "execution_count": 4,
   "id": "0ee63ced",
   "metadata": {},
   "outputs": [],
   "source": [
    "X = np.load(DATA_PATH / \"features.npy\")\n",
    "y = np.load(DATA_PATH / \"labels.npy\")\n",
    "\n",
    "y = y.reshape(-1,1)"
   ]
  },
  {
   "cell_type": "code",
   "execution_count": 5,
   "id": "572b9e3e",
   "metadata": {},
   "outputs": [],
   "source": [
    "# simplest case of cross-validation\n",
    "X_train, X_val, y_train, y_val = train_test_split(\n",
    "    X, \n",
    "    y, \n",
    "    test_size=0.33, \n",
    "    random_state=42\n",
    ")"
   ]
  },
  {
   "cell_type": "code",
   "execution_count": 6,
   "id": "293f3ee9",
   "metadata": {},
   "outputs": [],
   "source": [
    "device = \"cuda\" if torch.cuda.is_available() else \"cpu\""
   ]
  },
  {
   "cell_type": "code",
   "execution_count": 7,
   "id": "eb537af6",
   "metadata": {},
   "outputs": [],
   "source": [
    "model = nn.Linear(in_features=1, out_features=1)\n",
    "model.to(device)\n",
    "\n",
    "regularizer = L1Regularization(regularization_rate=0.01, biases=False)\n",
    "criterion = nn.MSELoss()\n",
    "optimizer = optim.Adam(model.parameters(), lr=0.005)"
   ]
  },
  {
   "cell_type": "code",
   "execution_count": 8,
   "id": "915c8933",
   "metadata": {},
   "outputs": [],
   "source": [
    "from torchfitter.callbacks import LoggerCallback, EarlyStopping, LearningRateScheduler"
   ]
  },
  {
   "cell_type": "code",
   "execution_count": 9,
   "id": "77760e18",
   "metadata": {},
   "outputs": [],
   "source": [
    "callbacks = [\n",
    "    LoggerCallback(update_step=100),\n",
    "    EarlyStopping(patience=50, load_best=False),\n",
    "    LearningRateScheduler(\n",
    "        scheduler=optim.lr_scheduler.StepLR(optimizer, step_size=500, gamma=0.9)\n",
    "    )\n",
    "]"
   ]
  },
  {
   "cell_type": "code",
   "execution_count": 10,
   "id": "e280b8d0",
   "metadata": {},
   "outputs": [],
   "source": [
    "trainer = Trainer(\n",
    "    model=model, \n",
    "    criterion=criterion,\n",
    "    optimizer=optimizer, \n",
    "    regularizer=regularizer,\n",
    "    device=device,\n",
    "    callbacks=callbacks\n",
    ")"
   ]
  },
  {
   "cell_type": "code",
   "execution_count": 11,
   "id": "5c6cb9c4",
   "metadata": {},
   "outputs": [],
   "source": [
    "# wrap data in Dataset\n",
    "train_wrapper = DataWrapper(\n",
    "    X_train, \n",
    "    y_train, \n",
    "    dtype_X='float', \n",
    "    dtype_y='float'\n",
    ")\n",
    "val_wrapper = DataWrapper(\n",
    "    X_val,\n",
    "    y_val,\n",
    "    dtype_X='float',\n",
    "    dtype_y='float'\n",
    ")\n",
    "\n",
    "# torch Loaders\n",
    "train_loader = DataLoader(train_wrapper, batch_size=64, pin_memory=True)\n",
    "val_loader = DataLoader(val_wrapper, batch_size=64, pin_memory=True)"
   ]
  },
  {
   "cell_type": "markdown",
   "id": "56e68c8a",
   "metadata": {},
   "source": [
    "----"
   ]
  },
  {
   "cell_type": "code",
   "execution_count": 12,
   "id": "f0f62989",
   "metadata": {},
   "outputs": [],
   "source": [
    "from torchfitter.callbacks import ExperimentSaver\n",
    "from torchfitter.callbacks.base import ManagerCallback"
   ]
  },
  {
   "cell_type": "code",
   "execution_count": 13,
   "id": "efce7a3b",
   "metadata": {},
   "outputs": [],
   "source": [
    "from torchfitter.manager import Manager"
   ]
  },
  {
   "cell_type": "code",
   "execution_count": 14,
   "id": "87449bb9",
   "metadata": {},
   "outputs": [],
   "source": [
    "class Restarter(ManagerCallback):\n",
    "    def __init__(self):\n",
    "        pass\n",
    "    \n",
    "    def on_seed_experiment_end(self, params_dict):\n",
    "        pass"
   ]
  },
  {
   "cell_type": "code",
   "execution_count": 15,
   "id": "8d2dcf5f",
   "metadata": {},
   "outputs": [],
   "source": [
    "callbacks_manager = [\n",
    "    ExperimentSaver(checkpoint_path='checkpoint.pt', folder_name='experiment')\n",
    "]"
   ]
  },
  {
   "cell_type": "code",
   "execution_count": 16,
   "id": "13927d5e",
   "metadata": {},
   "outputs": [],
   "source": [
    "# define random seeds\n",
    "seeds = (0, 5, 10)\n",
    "\n",
    "manager = Manager(\n",
    "    trainer=trainer,\n",
    "    seeds=seeds,\n",
    "    callbacks=callbacks_manager\n",
    ")"
   ]
  },
  {
   "cell_type": "code",
   "execution_count": 17,
   "id": "3cc0a3ed",
   "metadata": {
    "scrolled": false
   },
   "outputs": [
    {
     "data": {
      "application/vnd.jupyter.widget-view+json": {
       "model_id": "8e12e2ec86f64c49a820c9a51c533f8e",
       "version_major": 2,
       "version_minor": 0
      },
      "text/plain": [
       "  0%|          | 0/5000 | ? epoch/s, ramaining_time: ? s"
      ]
     },
     "metadata": {},
     "output_type": "display_data"
    },
    {
     "name": "stderr",
     "output_type": "stream",
     "text": [
      "INFO:root:Starting training process on cuda\n",
      "INFO:root:End of training. Total time: 210.20101 seconds\n",
      "INFO:root:Early stopping applied at epoch: 3897\n",
      "INFO:root:Ending training on seed 0\n"
     ]
    },
    {
     "data": {
      "application/vnd.jupyter.widget-view+json": {
       "model_id": "15da48784d054fa29e11619323d4186d",
       "version_major": 2,
       "version_minor": 0
      },
      "text/plain": [
       "  0%|          | 0/5000 | ? epoch/s, ramaining_time: ? s"
      ]
     },
     "metadata": {},
     "output_type": "display_data"
    },
    {
     "name": "stderr",
     "output_type": "stream",
     "text": [
      "INFO:root:Starting training process on cuda\n",
      "INFO:root:End of training. Total time: 213.03680 seconds\n",
      "INFO:root:Early stopping applied at epoch: 3902\n",
      "INFO:root:Ending training on seed 5\n"
     ]
    },
    {
     "data": {
      "application/vnd.jupyter.widget-view+json": {
       "model_id": "5c4cf24b8433409297879ef8fcb3ae87",
       "version_major": 2,
       "version_minor": 0
      },
      "text/plain": [
       "  0%|          | 0/5000 | ? epoch/s, ramaining_time: ? s"
      ]
     },
     "metadata": {},
     "output_type": "display_data"
    },
    {
     "name": "stderr",
     "output_type": "stream",
     "text": [
      "INFO:root:Starting training process on cuda\n",
      "INFO:root:End of training. Total time: 213.52760 seconds\n",
      "INFO:root:Early stopping applied at epoch: 3879\n",
      "INFO:root:Ending training on seed 10\n"
     ]
    }
   ],
   "source": [
    "manager.run_experiments(train_loader, val_loader, 5000)"
   ]
  },
  {
   "cell_type": "code",
   "execution_count": 18,
   "id": "1b040581",
   "metadata": {},
   "outputs": [],
   "source": [
    "from torchfitter.io import load_pickle"
   ]
  },
  {
   "cell_type": "code",
   "execution_count": 19,
   "id": "07c5c365",
   "metadata": {},
   "outputs": [],
   "source": [
    "experiments = {}\n",
    "\n",
    "for seed in seeds:\n",
    "    mod = torch.load(f'experiment_{seed}/model_parameters.pt')\n",
    "    best = torch.load(f'experiment_{seed}/best_parameters.pt')\n",
    "    op = torch.load(f'experiment_{seed}/optim_parameters.pt')\n",
    "    hist = load_pickle(f'experiment_{seed}/history.pkl')\n",
    "    \n",
    "    experiments[seed] = {}\n",
    "    \n",
    "    experiments[seed]['model'] = mod\n",
    "    experiments[seed]['best_model'] = best\n",
    "    experiments[seed]['optimizer'] = op\n",
    "    experiments[seed]['history'] = hist"
   ]
  },
  {
   "cell_type": "code",
   "execution_count": 20,
   "id": "6237eced",
   "metadata": {
    "scrolled": false
   },
   "outputs": [
    {
     "data": {
      "image/png": "[encoded data removed]",
      "text/plain": [
       "<Figure size 1224x360 with 2 Axes>"
      ]
     },
     "metadata": {
      "needs_background": "light"
     },
     "output_type": "display_data"
    }
   ],
   "source": [
    "fig, ax = plt.subplots(nrows=1, ncols=2, figsize=(17, 5))\n",
    "\n",
    "for key in experiments.keys():\n",
    "    hist = experiments[key]['history']\n",
    "    \n",
    "    ax[0].plot(hist['train_loss'], label=f'Experiment {key}')\n",
    "    ax[0].set_title('Train loss')\n",
    "    ax[0].legend()\n",
    "    \n",
    "    ax[1].plot(hist['validation_loss'], label=f'Experiment {key}')\n",
    "    ax[1].set_title('Validation loss')\n",
    "    ax[1].legend()"
   ]
  },
  {
   "cell_type": "markdown",
   "id": "beba269f",
   "metadata": {},
   "source": [
    "----"
   ]
  },
  {
   "cell_type": "code",
   "execution_count": 21,
   "id": "df6da1df",
   "metadata": {},
   "outputs": [
    {
     "data": {
      "text/plain": [
       "OrderedDict([('weight', tensor([[90.8696]], device='cuda:0')),\n",
       "             ('bias', tensor([0.0945], device='cuda:0'))])"
      ]
     },
     "execution_count": 21,
     "metadata": {},
     "output_type": "execute_result"
    }
   ],
   "source": [
    "experiments[0]['model']"
   ]
  },
  {
   "cell_type": "code",
   "execution_count": 22,
   "id": "70afc346",
   "metadata": {},
   "outputs": [
    {
     "data": {
      "text/plain": [
       "OrderedDict([('weight', tensor([[90.8696]], device='cuda:0')),\n",
       "             ('bias', tensor([0.0942], device='cuda:0'))])"
      ]
     },
     "execution_count": 22,
     "metadata": {},
     "output_type": "execute_result"
    }
   ],
   "source": [
    "experiments[0]['best_model']"
   ]
  },
  {
   "cell_type": "markdown",
   "id": "e8638f1e",
   "metadata": {},
   "source": [
    "---"
   ]
  },
  {
   "cell_type": "code",
   "execution_count": 23,
   "id": "71683a79",
   "metadata": {},
   "outputs": [
    {
     "data": {
      "text/plain": [
       "OrderedDict([('weight', tensor([[90.8696]], device='cuda:0')),\n",
       "             ('bias', tensor([0.0944], device='cuda:0'))])"
      ]
     },
     "execution_count": 23,
     "metadata": {},
     "output_type": "execute_result"
    }
   ],
   "source": [
    "experiments[5]['model']"
   ]
  },
  {
   "cell_type": "code",
   "execution_count": 24,
   "id": "c810ed19",
   "metadata": {},
   "outputs": [
    {
     "data": {
      "text/plain": [
       "OrderedDict([('weight', tensor([[90.8696]], device='cuda:0')),\n",
       "             ('bias', tensor([0.0942], device='cuda:0'))])"
      ]
     },
     "execution_count": 24,
     "metadata": {},
     "output_type": "execute_result"
    }
   ],
   "source": [
    "experiments[5]['best_model']"
   ]
  },
  {
   "cell_type": "markdown",
   "id": "d4e981da",
   "metadata": {},
   "source": [
    "----"
   ]
  },
  {
   "cell_type": "code",
   "execution_count": 25,
   "id": "8afcdf8b",
   "metadata": {},
   "outputs": [
    {
     "data": {
      "text/plain": [
       "OrderedDict([('weight', tensor([[90.8696]], device='cuda:0')),\n",
       "             ('bias', tensor([0.0946], device='cuda:0'))])"
      ]
     },
     "execution_count": 25,
     "metadata": {},
     "output_type": "execute_result"
    }
   ],
   "source": [
    "experiments[10]['model']"
   ]
  },
  {
   "cell_type": "code",
   "execution_count": 26,
   "id": "837e288e",
   "metadata": {},
   "outputs": [
    {
     "data": {
      "text/plain": [
       "OrderedDict([('weight', tensor([[90.8696]], device='cuda:0')),\n",
       "             ('bias', tensor([0.0944], device='cuda:0'))])"
      ]
     },
     "execution_count": 26,
     "metadata": {},
     "output_type": "execute_result"
    }
   ],
   "source": [
    "experiments[10]['best_model']"
   ]
  }
 ],
 "metadata": {
  "kernelspec": {
   "display_name": "Python 3",
   "language": "python",
   "name": "python3"
  },
  "language_info": {
   "codemirror_mode": {
    "name": "ipython",
    "version": 3
   },
   "file_extension": ".py",
   "mimetype": "text/x-python",
   "name": "python",
   "nbconvert_exporter": "python",
   "pygments_lexer": "ipython3",
   "version": "3.7.10"
  }
 },
 "nbformat": 4,
 "nbformat_minor": 5
}
